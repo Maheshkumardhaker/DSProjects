{
  "nbformat": 4,
  "nbformat_minor": 0,
  "metadata": {
    "colab": {
      "provenance": []
    },
    "kernelspec": {
      "name": "python3",
      "display_name": "Python 3"
    },
    "language_info": {
      "name": "python"
    }
  },
  "cells": [
    {
      "cell_type": "code",
      "execution_count": 69,
      "metadata": {
        "id": "6o1ePnHO_Fuq"
      },
      "outputs": [],
      "source": [
        "import numpy as np\n",
        "import pandas as pd \n",
        "import matplotlib.pyplot as plt\n",
        "import seaborn as sns"
      ]
    },
    {
      "cell_type": "code",
      "source": [
        "df=pd.read_csv('/content/MTP_data.csv')"
      ],
      "metadata": {
        "id": "G5OQ5YYUAM1o"
      },
      "execution_count": 70,
      "outputs": []
    },
    {
      "cell_type": "code",
      "source": [
        "df"
      ],
      "metadata": {
        "colab": {
          "base_uri": "https://localhost:8080/",
          "height": 896
        },
        "id": "2yuAuzFaBK2x",
        "outputId": "7edb4afe-8545-48c2-a506-eb9e16ca8e8c"
      },
      "execution_count": 71,
      "outputs": [
        {
          "output_type": "execute_result",
          "data": {
            "text/plain": [
              "      x1  x2  x3      y\n",
              "0   0.40  45  40  24.73\n",
              "1   0.40  45  60  28.89\n",
              "2   0.40  45  80  30.78\n",
              "3   0.40  55  40  27.93\n",
              "4   0.40  55  60  29.76\n",
              "5   0.40  55  80  30.80\n",
              "6   0.40  65  40  24.63\n",
              "7   0.40  65  60  26.51\n",
              "8   0.40  65  80  32.47\n",
              "9   0.50  45  40  26.76\n",
              "10  0.50  45  60  31.22\n",
              "11  0.50  45  80  32.04\n",
              "12  0.50  55  40  30.15\n",
              "13  0.50  55  60  31.27\n",
              "14  0.50  55  80  33.78\n",
              "15  0.50  65  40  29.46\n",
              "16  0.50  65  60  30.23\n",
              "17  0.50  65  80  31.57\n",
              "18  0.35  45  40  28.01\n",
              "19  0.35  45  60  31.51\n",
              "20  0.35  45  80  33.70\n",
              "21  0.35  55  40  26.95\n",
              "22  0.35  55  60  29.40\n",
              "23  0.35  55  80  30.96\n",
              "24  0.35  65  40  24.56\n",
              "25  0.35  65  60  26.72\n",
              "26  0.35  65  80  30.60"
            ],
            "text/html": [
              "\n",
              "  <div id=\"df-8125914f-1915-4265-bac4-cb89f99b7413\">\n",
              "    <div class=\"colab-df-container\">\n",
              "      <div>\n",
              "<style scoped>\n",
              "    .dataframe tbody tr th:only-of-type {\n",
              "        vertical-align: middle;\n",
              "    }\n",
              "\n",
              "    .dataframe tbody tr th {\n",
              "        vertical-align: top;\n",
              "    }\n",
              "\n",
              "    .dataframe thead th {\n",
              "        text-align: right;\n",
              "    }\n",
              "</style>\n",
              "<table border=\"1\" class=\"dataframe\">\n",
              "  <thead>\n",
              "    <tr style=\"text-align: right;\">\n",
              "      <th></th>\n",
              "      <th>x1</th>\n",
              "      <th>x2</th>\n",
              "      <th>x3</th>\n",
              "      <th>y</th>\n",
              "    </tr>\n",
              "  </thead>\n",
              "  <tbody>\n",
              "    <tr>\n",
              "      <th>0</th>\n",
              "      <td>0.40</td>\n",
              "      <td>45</td>\n",
              "      <td>40</td>\n",
              "      <td>24.73</td>\n",
              "    </tr>\n",
              "    <tr>\n",
              "      <th>1</th>\n",
              "      <td>0.40</td>\n",
              "      <td>45</td>\n",
              "      <td>60</td>\n",
              "      <td>28.89</td>\n",
              "    </tr>\n",
              "    <tr>\n",
              "      <th>2</th>\n",
              "      <td>0.40</td>\n",
              "      <td>45</td>\n",
              "      <td>80</td>\n",
              "      <td>30.78</td>\n",
              "    </tr>\n",
              "    <tr>\n",
              "      <th>3</th>\n",
              "      <td>0.40</td>\n",
              "      <td>55</td>\n",
              "      <td>40</td>\n",
              "      <td>27.93</td>\n",
              "    </tr>\n",
              "    <tr>\n",
              "      <th>4</th>\n",
              "      <td>0.40</td>\n",
              "      <td>55</td>\n",
              "      <td>60</td>\n",
              "      <td>29.76</td>\n",
              "    </tr>\n",
              "    <tr>\n",
              "      <th>5</th>\n",
              "      <td>0.40</td>\n",
              "      <td>55</td>\n",
              "      <td>80</td>\n",
              "      <td>30.80</td>\n",
              "    </tr>\n",
              "    <tr>\n",
              "      <th>6</th>\n",
              "      <td>0.40</td>\n",
              "      <td>65</td>\n",
              "      <td>40</td>\n",
              "      <td>24.63</td>\n",
              "    </tr>\n",
              "    <tr>\n",
              "      <th>7</th>\n",
              "      <td>0.40</td>\n",
              "      <td>65</td>\n",
              "      <td>60</td>\n",
              "      <td>26.51</td>\n",
              "    </tr>\n",
              "    <tr>\n",
              "      <th>8</th>\n",
              "      <td>0.40</td>\n",
              "      <td>65</td>\n",
              "      <td>80</td>\n",
              "      <td>32.47</td>\n",
              "    </tr>\n",
              "    <tr>\n",
              "      <th>9</th>\n",
              "      <td>0.50</td>\n",
              "      <td>45</td>\n",
              "      <td>40</td>\n",
              "      <td>26.76</td>\n",
              "    </tr>\n",
              "    <tr>\n",
              "      <th>10</th>\n",
              "      <td>0.50</td>\n",
              "      <td>45</td>\n",
              "      <td>60</td>\n",
              "      <td>31.22</td>\n",
              "    </tr>\n",
              "    <tr>\n",
              "      <th>11</th>\n",
              "      <td>0.50</td>\n",
              "      <td>45</td>\n",
              "      <td>80</td>\n",
              "      <td>32.04</td>\n",
              "    </tr>\n",
              "    <tr>\n",
              "      <th>12</th>\n",
              "      <td>0.50</td>\n",
              "      <td>55</td>\n",
              "      <td>40</td>\n",
              "      <td>30.15</td>\n",
              "    </tr>\n",
              "    <tr>\n",
              "      <th>13</th>\n",
              "      <td>0.50</td>\n",
              "      <td>55</td>\n",
              "      <td>60</td>\n",
              "      <td>31.27</td>\n",
              "    </tr>\n",
              "    <tr>\n",
              "      <th>14</th>\n",
              "      <td>0.50</td>\n",
              "      <td>55</td>\n",
              "      <td>80</td>\n",
              "      <td>33.78</td>\n",
              "    </tr>\n",
              "    <tr>\n",
              "      <th>15</th>\n",
              "      <td>0.50</td>\n",
              "      <td>65</td>\n",
              "      <td>40</td>\n",
              "      <td>29.46</td>\n",
              "    </tr>\n",
              "    <tr>\n",
              "      <th>16</th>\n",
              "      <td>0.50</td>\n",
              "      <td>65</td>\n",
              "      <td>60</td>\n",
              "      <td>30.23</td>\n",
              "    </tr>\n",
              "    <tr>\n",
              "      <th>17</th>\n",
              "      <td>0.50</td>\n",
              "      <td>65</td>\n",
              "      <td>80</td>\n",
              "      <td>31.57</td>\n",
              "    </tr>\n",
              "    <tr>\n",
              "      <th>18</th>\n",
              "      <td>0.35</td>\n",
              "      <td>45</td>\n",
              "      <td>40</td>\n",
              "      <td>28.01</td>\n",
              "    </tr>\n",
              "    <tr>\n",
              "      <th>19</th>\n",
              "      <td>0.35</td>\n",
              "      <td>45</td>\n",
              "      <td>60</td>\n",
              "      <td>31.51</td>\n",
              "    </tr>\n",
              "    <tr>\n",
              "      <th>20</th>\n",
              "      <td>0.35</td>\n",
              "      <td>45</td>\n",
              "      <td>80</td>\n",
              "      <td>33.70</td>\n",
              "    </tr>\n",
              "    <tr>\n",
              "      <th>21</th>\n",
              "      <td>0.35</td>\n",
              "      <td>55</td>\n",
              "      <td>40</td>\n",
              "      <td>26.95</td>\n",
              "    </tr>\n",
              "    <tr>\n",
              "      <th>22</th>\n",
              "      <td>0.35</td>\n",
              "      <td>55</td>\n",
              "      <td>60</td>\n",
              "      <td>29.40</td>\n",
              "    </tr>\n",
              "    <tr>\n",
              "      <th>23</th>\n",
              "      <td>0.35</td>\n",
              "      <td>55</td>\n",
              "      <td>80</td>\n",
              "      <td>30.96</td>\n",
              "    </tr>\n",
              "    <tr>\n",
              "      <th>24</th>\n",
              "      <td>0.35</td>\n",
              "      <td>65</td>\n",
              "      <td>40</td>\n",
              "      <td>24.56</td>\n",
              "    </tr>\n",
              "    <tr>\n",
              "      <th>25</th>\n",
              "      <td>0.35</td>\n",
              "      <td>65</td>\n",
              "      <td>60</td>\n",
              "      <td>26.72</td>\n",
              "    </tr>\n",
              "    <tr>\n",
              "      <th>26</th>\n",
              "      <td>0.35</td>\n",
              "      <td>65</td>\n",
              "      <td>80</td>\n",
              "      <td>30.60</td>\n",
              "    </tr>\n",
              "  </tbody>\n",
              "</table>\n",
              "</div>\n",
              "      <button class=\"colab-df-convert\" onclick=\"convertToInteractive('df-8125914f-1915-4265-bac4-cb89f99b7413')\"\n",
              "              title=\"Convert this dataframe to an interactive table.\"\n",
              "              style=\"display:none;\">\n",
              "        \n",
              "  <svg xmlns=\"http://www.w3.org/2000/svg\" height=\"24px\"viewBox=\"0 0 24 24\"\n",
              "       width=\"24px\">\n",
              "    <path d=\"M0 0h24v24H0V0z\" fill=\"none\"/>\n",
              "    <path d=\"M18.56 5.44l.94 2.06.94-2.06 2.06-.94-2.06-.94-.94-2.06-.94 2.06-2.06.94zm-11 1L8.5 8.5l.94-2.06 2.06-.94-2.06-.94L8.5 2.5l-.94 2.06-2.06.94zm10 10l.94 2.06.94-2.06 2.06-.94-2.06-.94-.94-2.06-.94 2.06-2.06.94z\"/><path d=\"M17.41 7.96l-1.37-1.37c-.4-.4-.92-.59-1.43-.59-.52 0-1.04.2-1.43.59L10.3 9.45l-7.72 7.72c-.78.78-.78 2.05 0 2.83L4 21.41c.39.39.9.59 1.41.59.51 0 1.02-.2 1.41-.59l7.78-7.78 2.81-2.81c.8-.78.8-2.07 0-2.86zM5.41 20L4 18.59l7.72-7.72 1.47 1.35L5.41 20z\"/>\n",
              "  </svg>\n",
              "      </button>\n",
              "      \n",
              "  <style>\n",
              "    .colab-df-container {\n",
              "      display:flex;\n",
              "      flex-wrap:wrap;\n",
              "      gap: 12px;\n",
              "    }\n",
              "\n",
              "    .colab-df-convert {\n",
              "      background-color: #E8F0FE;\n",
              "      border: none;\n",
              "      border-radius: 50%;\n",
              "      cursor: pointer;\n",
              "      display: none;\n",
              "      fill: #1967D2;\n",
              "      height: 32px;\n",
              "      padding: 0 0 0 0;\n",
              "      width: 32px;\n",
              "    }\n",
              "\n",
              "    .colab-df-convert:hover {\n",
              "      background-color: #E2EBFA;\n",
              "      box-shadow: 0px 1px 2px rgba(60, 64, 67, 0.3), 0px 1px 3px 1px rgba(60, 64, 67, 0.15);\n",
              "      fill: #174EA6;\n",
              "    }\n",
              "\n",
              "    [theme=dark] .colab-df-convert {\n",
              "      background-color: #3B4455;\n",
              "      fill: #D2E3FC;\n",
              "    }\n",
              "\n",
              "    [theme=dark] .colab-df-convert:hover {\n",
              "      background-color: #434B5C;\n",
              "      box-shadow: 0px 1px 3px 1px rgba(0, 0, 0, 0.15);\n",
              "      filter: drop-shadow(0px 1px 2px rgba(0, 0, 0, 0.3));\n",
              "      fill: #FFFFFF;\n",
              "    }\n",
              "  </style>\n",
              "\n",
              "      <script>\n",
              "        const buttonEl =\n",
              "          document.querySelector('#df-8125914f-1915-4265-bac4-cb89f99b7413 button.colab-df-convert');\n",
              "        buttonEl.style.display =\n",
              "          google.colab.kernel.accessAllowed ? 'block' : 'none';\n",
              "\n",
              "        async function convertToInteractive(key) {\n",
              "          const element = document.querySelector('#df-8125914f-1915-4265-bac4-cb89f99b7413');\n",
              "          const dataTable =\n",
              "            await google.colab.kernel.invokeFunction('convertToInteractive',\n",
              "                                                     [key], {});\n",
              "          if (!dataTable) return;\n",
              "\n",
              "          const docLinkHtml = 'Like what you see? Visit the ' +\n",
              "            '<a target=\"_blank\" href=https://colab.research.google.com/notebooks/data_table.ipynb>data table notebook</a>'\n",
              "            + ' to learn more about interactive tables.';\n",
              "          element.innerHTML = '';\n",
              "          dataTable['output_type'] = 'display_data';\n",
              "          await google.colab.output.renderOutput(dataTable, element);\n",
              "          const docLink = document.createElement('div');\n",
              "          docLink.innerHTML = docLinkHtml;\n",
              "          element.appendChild(docLink);\n",
              "        }\n",
              "      </script>\n",
              "    </div>\n",
              "  </div>\n",
              "  "
            ]
          },
          "metadata": {},
          "execution_count": 71
        }
      ]
    },
    {
      "cell_type": "code",
      "source": [
        "df.describe()"
      ],
      "metadata": {
        "colab": {
          "base_uri": "https://localhost:8080/",
          "height": 300
        },
        "id": "DUWp7cHQBMrf",
        "outputId": "6d9fc414-1dba-4f39-99d3-3f5078c8c74d"
      },
      "execution_count": 72,
      "outputs": [
        {
          "output_type": "execute_result",
          "data": {
            "text/plain": [
              "              x1         x2         x3          y\n",
              "count  27.000000  27.000000  27.000000  27.000000\n",
              "mean    0.416667  55.000000  60.000000  29.458889\n",
              "std     0.063549   8.320503  16.641006   2.630555\n",
              "min     0.350000  45.000000  40.000000  24.560000\n",
              "25%     0.350000  45.000000  40.000000  27.440000\n",
              "50%     0.400000  55.000000  60.000000  30.150000\n",
              "75%     0.500000  65.000000  80.000000  31.245000\n",
              "max     0.500000  65.000000  80.000000  33.780000"
            ],
            "text/html": [
              "\n",
              "  <div id=\"df-adb52adf-557e-402a-bd27-6457155d2665\">\n",
              "    <div class=\"colab-df-container\">\n",
              "      <div>\n",
              "<style scoped>\n",
              "    .dataframe tbody tr th:only-of-type {\n",
              "        vertical-align: middle;\n",
              "    }\n",
              "\n",
              "    .dataframe tbody tr th {\n",
              "        vertical-align: top;\n",
              "    }\n",
              "\n",
              "    .dataframe thead th {\n",
              "        text-align: right;\n",
              "    }\n",
              "</style>\n",
              "<table border=\"1\" class=\"dataframe\">\n",
              "  <thead>\n",
              "    <tr style=\"text-align: right;\">\n",
              "      <th></th>\n",
              "      <th>x1</th>\n",
              "      <th>x2</th>\n",
              "      <th>x3</th>\n",
              "      <th>y</th>\n",
              "    </tr>\n",
              "  </thead>\n",
              "  <tbody>\n",
              "    <tr>\n",
              "      <th>count</th>\n",
              "      <td>27.000000</td>\n",
              "      <td>27.000000</td>\n",
              "      <td>27.000000</td>\n",
              "      <td>27.000000</td>\n",
              "    </tr>\n",
              "    <tr>\n",
              "      <th>mean</th>\n",
              "      <td>0.416667</td>\n",
              "      <td>55.000000</td>\n",
              "      <td>60.000000</td>\n",
              "      <td>29.458889</td>\n",
              "    </tr>\n",
              "    <tr>\n",
              "      <th>std</th>\n",
              "      <td>0.063549</td>\n",
              "      <td>8.320503</td>\n",
              "      <td>16.641006</td>\n",
              "      <td>2.630555</td>\n",
              "    </tr>\n",
              "    <tr>\n",
              "      <th>min</th>\n",
              "      <td>0.350000</td>\n",
              "      <td>45.000000</td>\n",
              "      <td>40.000000</td>\n",
              "      <td>24.560000</td>\n",
              "    </tr>\n",
              "    <tr>\n",
              "      <th>25%</th>\n",
              "      <td>0.350000</td>\n",
              "      <td>45.000000</td>\n",
              "      <td>40.000000</td>\n",
              "      <td>27.440000</td>\n",
              "    </tr>\n",
              "    <tr>\n",
              "      <th>50%</th>\n",
              "      <td>0.400000</td>\n",
              "      <td>55.000000</td>\n",
              "      <td>60.000000</td>\n",
              "      <td>30.150000</td>\n",
              "    </tr>\n",
              "    <tr>\n",
              "      <th>75%</th>\n",
              "      <td>0.500000</td>\n",
              "      <td>65.000000</td>\n",
              "      <td>80.000000</td>\n",
              "      <td>31.245000</td>\n",
              "    </tr>\n",
              "    <tr>\n",
              "      <th>max</th>\n",
              "      <td>0.500000</td>\n",
              "      <td>65.000000</td>\n",
              "      <td>80.000000</td>\n",
              "      <td>33.780000</td>\n",
              "    </tr>\n",
              "  </tbody>\n",
              "</table>\n",
              "</div>\n",
              "      <button class=\"colab-df-convert\" onclick=\"convertToInteractive('df-adb52adf-557e-402a-bd27-6457155d2665')\"\n",
              "              title=\"Convert this dataframe to an interactive table.\"\n",
              "              style=\"display:none;\">\n",
              "        \n",
              "  <svg xmlns=\"http://www.w3.org/2000/svg\" height=\"24px\"viewBox=\"0 0 24 24\"\n",
              "       width=\"24px\">\n",
              "    <path d=\"M0 0h24v24H0V0z\" fill=\"none\"/>\n",
              "    <path d=\"M18.56 5.44l.94 2.06.94-2.06 2.06-.94-2.06-.94-.94-2.06-.94 2.06-2.06.94zm-11 1L8.5 8.5l.94-2.06 2.06-.94-2.06-.94L8.5 2.5l-.94 2.06-2.06.94zm10 10l.94 2.06.94-2.06 2.06-.94-2.06-.94-.94-2.06-.94 2.06-2.06.94z\"/><path d=\"M17.41 7.96l-1.37-1.37c-.4-.4-.92-.59-1.43-.59-.52 0-1.04.2-1.43.59L10.3 9.45l-7.72 7.72c-.78.78-.78 2.05 0 2.83L4 21.41c.39.39.9.59 1.41.59.51 0 1.02-.2 1.41-.59l7.78-7.78 2.81-2.81c.8-.78.8-2.07 0-2.86zM5.41 20L4 18.59l7.72-7.72 1.47 1.35L5.41 20z\"/>\n",
              "  </svg>\n",
              "      </button>\n",
              "      \n",
              "  <style>\n",
              "    .colab-df-container {\n",
              "      display:flex;\n",
              "      flex-wrap:wrap;\n",
              "      gap: 12px;\n",
              "    }\n",
              "\n",
              "    .colab-df-convert {\n",
              "      background-color: #E8F0FE;\n",
              "      border: none;\n",
              "      border-radius: 50%;\n",
              "      cursor: pointer;\n",
              "      display: none;\n",
              "      fill: #1967D2;\n",
              "      height: 32px;\n",
              "      padding: 0 0 0 0;\n",
              "      width: 32px;\n",
              "    }\n",
              "\n",
              "    .colab-df-convert:hover {\n",
              "      background-color: #E2EBFA;\n",
              "      box-shadow: 0px 1px 2px rgba(60, 64, 67, 0.3), 0px 1px 3px 1px rgba(60, 64, 67, 0.15);\n",
              "      fill: #174EA6;\n",
              "    }\n",
              "\n",
              "    [theme=dark] .colab-df-convert {\n",
              "      background-color: #3B4455;\n",
              "      fill: #D2E3FC;\n",
              "    }\n",
              "\n",
              "    [theme=dark] .colab-df-convert:hover {\n",
              "      background-color: #434B5C;\n",
              "      box-shadow: 0px 1px 3px 1px rgba(0, 0, 0, 0.15);\n",
              "      filter: drop-shadow(0px 1px 2px rgba(0, 0, 0, 0.3));\n",
              "      fill: #FFFFFF;\n",
              "    }\n",
              "  </style>\n",
              "\n",
              "      <script>\n",
              "        const buttonEl =\n",
              "          document.querySelector('#df-adb52adf-557e-402a-bd27-6457155d2665 button.colab-df-convert');\n",
              "        buttonEl.style.display =\n",
              "          google.colab.kernel.accessAllowed ? 'block' : 'none';\n",
              "\n",
              "        async function convertToInteractive(key) {\n",
              "          const element = document.querySelector('#df-adb52adf-557e-402a-bd27-6457155d2665');\n",
              "          const dataTable =\n",
              "            await google.colab.kernel.invokeFunction('convertToInteractive',\n",
              "                                                     [key], {});\n",
              "          if (!dataTable) return;\n",
              "\n",
              "          const docLinkHtml = 'Like what you see? Visit the ' +\n",
              "            '<a target=\"_blank\" href=https://colab.research.google.com/notebooks/data_table.ipynb>data table notebook</a>'\n",
              "            + ' to learn more about interactive tables.';\n",
              "          element.innerHTML = '';\n",
              "          dataTable['output_type'] = 'display_data';\n",
              "          await google.colab.output.renderOutput(dataTable, element);\n",
              "          const docLink = document.createElement('div');\n",
              "          docLink.innerHTML = docLinkHtml;\n",
              "          element.appendChild(docLink);\n",
              "        }\n",
              "      </script>\n",
              "    </div>\n",
              "  </div>\n",
              "  "
            ]
          },
          "metadata": {},
          "execution_count": 72
        }
      ]
    },
    {
      "cell_type": "code",
      "source": [
        "df.info()"
      ],
      "metadata": {
        "colab": {
          "base_uri": "https://localhost:8080/"
        },
        "id": "o3mES3LDBUC1",
        "outputId": "caf358f1-ec61-452b-f508-a945199045ad"
      },
      "execution_count": 73,
      "outputs": [
        {
          "output_type": "stream",
          "name": "stdout",
          "text": [
            "<class 'pandas.core.frame.DataFrame'>\n",
            "RangeIndex: 27 entries, 0 to 26\n",
            "Data columns (total 4 columns):\n",
            " #   Column  Non-Null Count  Dtype  \n",
            "---  ------  --------------  -----  \n",
            " 0   x1      27 non-null     float64\n",
            " 1   x2      27 non-null     int64  \n",
            " 2   x3      27 non-null     int64  \n",
            " 3   y       27 non-null     float64\n",
            "dtypes: float64(2), int64(2)\n",
            "memory usage: 992.0 bytes\n"
          ]
        }
      ]
    },
    {
      "cell_type": "code",
      "source": [
        "sns.heatmap(df.corr())"
      ],
      "metadata": {
        "colab": {
          "base_uri": "https://localhost:8080/",
          "height": 286
        },
        "id": "1OnBWsQyBVQq",
        "outputId": "4e3cc3dd-17b8-4d92-83f3-c348e54a4bbf"
      },
      "execution_count": 74,
      "outputs": [
        {
          "output_type": "execute_result",
          "data": {
            "text/plain": [
              "<matplotlib.axes._subplots.AxesSubplot at 0x7f5d75626390>"
            ]
          },
          "metadata": {},
          "execution_count": 74
        },
        {
          "output_type": "display_data",
          "data": {
            "text/plain": [
              "<Figure size 432x288 with 2 Axes>"
            ],
            "image/png": "[encoded data removed]"
          },
          "metadata": {
            "needs_background": "light"
          }
        }
      ]
    },
    {
      "cell_type": "code",
      "source": [
        "plt.plot(df['y'])\n",
        "plt.show()"
      ],
      "metadata": {
        "colab": {
          "base_uri": "https://localhost:8080/",
          "height": 265
        },
        "id": "OVpmZN9GBgM2",
        "outputId": "f9c77af5-1c74-424f-8764-96595c975bd6"
      },
      "execution_count": 75,
      "outputs": [
        {
          "output_type": "display_data",
          "data": {
            "text/plain": [
              "<Figure size 432x288 with 1 Axes>"
            ],
            "image/png": "[encoded data removed]"
          },
          "metadata": {
            "needs_background": "light"
          }
        }
      ]
    },
    {
      "cell_type": "code",
      "source": [
        "X=df[['x1','x2','x3']].values"
      ],
      "metadata": {
        "id": "Lx_PLAR_CKqV"
      },
      "execution_count": 76,
      "outputs": []
    },
    {
      "cell_type": "code",
      "source": [
        "X.shape"
      ],
      "metadata": {
        "colab": {
          "base_uri": "https://localhost:8080/"
        },
        "id": "hhX_Bq3jCwmD",
        "outputId": "4562059d-8054-4b33-cc30-df6bb8769367"
      },
      "execution_count": 77,
      "outputs": [
        {
          "output_type": "execute_result",
          "data": {
            "text/plain": [
              "(27, 3)"
            ]
          },
          "metadata": {},
          "execution_count": 77
        }
      ]
    },
    {
      "cell_type": "code",
      "source": [
        "X"
      ],
      "metadata": {
        "colab": {
          "base_uri": "https://localhost:8080/"
        },
        "id": "2BJ5bCU_C3kK",
        "outputId": "6bab110e-688c-4ab0-de3a-6b1b65621648"
      },
      "execution_count": 78,
      "outputs": [
        {
          "output_type": "execute_result",
          "data": {
            "text/plain": [
              "array([[ 0.4 , 45.  , 40.  ],\n",
              "       [ 0.4 , 45.  , 60.  ],\n",
              "       [ 0.4 , 45.  , 80.  ],\n",
              "       [ 0.4 , 55.  , 40.  ],\n",
              "       [ 0.4 , 55.  , 60.  ],\n",
              "       [ 0.4 , 55.  , 80.  ],\n",
              "       [ 0.4 , 65.  , 40.  ],\n",
              "       [ 0.4 , 65.  , 60.  ],\n",
              "       [ 0.4 , 65.  , 80.  ],\n",
              "       [ 0.5 , 45.  , 40.  ],\n",
              "       [ 0.5 , 45.  , 60.  ],\n",
              "       [ 0.5 , 45.  , 80.  ],\n",
              "       [ 0.5 , 55.  , 40.  ],\n",
              "       [ 0.5 , 55.  , 60.  ],\n",
              "       [ 0.5 , 55.  , 80.  ],\n",
              "       [ 0.5 , 65.  , 40.  ],\n",
              "       [ 0.5 , 65.  , 60.  ],\n",
              "       [ 0.5 , 65.  , 80.  ],\n",
              "       [ 0.35, 45.  , 40.  ],\n",
              "       [ 0.35, 45.  , 60.  ],\n",
              "       [ 0.35, 45.  , 80.  ],\n",
              "       [ 0.35, 55.  , 40.  ],\n",
              "       [ 0.35, 55.  , 60.  ],\n",
              "       [ 0.35, 55.  , 80.  ],\n",
              "       [ 0.35, 65.  , 40.  ],\n",
              "       [ 0.35, 65.  , 60.  ],\n",
              "       [ 0.35, 65.  , 80.  ]])"
            ]
          },
          "metadata": {},
          "execution_count": 78
        }
      ]
    },
    {
      "cell_type": "code",
      "source": [
        "y=df[['y']].values"
      ],
      "metadata": {
        "id": "9APhGP4uC-yh"
      },
      "execution_count": 79,
      "outputs": []
    },
    {
      "cell_type": "code",
      "source": [
        "y"
      ],
      "metadata": {
        "colab": {
          "base_uri": "https://localhost:8080/"
        },
        "id": "r8-3Yo_gDIUt",
        "outputId": "fa920a66-383f-451a-90a8-96cf5b7fbecd"
      },
      "execution_count": 80,
      "outputs": [
        {
          "output_type": "execute_result",
          "data": {
            "text/plain": [
              "array([[24.73],\n",
              "       [28.89],\n",
              "       [30.78],\n",
              "       [27.93],\n",
              "       [29.76],\n",
              "       [30.8 ],\n",
              "       [24.63],\n",
              "       [26.51],\n",
              "       [32.47],\n",
              "       [26.76],\n",
              "       [31.22],\n",
              "       [32.04],\n",
              "       [30.15],\n",
              "       [31.27],\n",
              "       [33.78],\n",
              "       [29.46],\n",
              "       [30.23],\n",
              "       [31.57],\n",
              "       [28.01],\n",
              "       [31.51],\n",
              "       [33.7 ],\n",
              "       [26.95],\n",
              "       [29.4 ],\n",
              "       [30.96],\n",
              "       [24.56],\n",
              "       [26.72],\n",
              "       [30.6 ]])"
            ]
          },
          "metadata": {},
          "execution_count": 80
        }
      ]
    },
    {
      "cell_type": "code",
      "source": [
        "from sklearn.preprocessing import StandardScaler\n",
        "scaler=StandardScaler()"
      ],
      "metadata": {
        "id": "rWarwlUSFbbh"
      },
      "execution_count": 81,
      "outputs": []
    },
    {
      "cell_type": "code",
      "source": [
        "X_std=scaler.fit_transform(X)\n",
        "y_std=scaler.fit_transform(y)"
      ],
      "metadata": {
        "id": "4-F-4LTcFiVT"
      },
      "execution_count": 82,
      "outputs": []
    },
    {
      "cell_type": "code",
      "source": [
        "X_std"
      ],
      "metadata": {
        "colab": {
          "base_uri": "https://localhost:8080/"
        },
        "id": "A-PqHVs7HADf",
        "outputId": "54db1dd0-643e-447b-e7ae-103e0094326e"
      },
      "execution_count": 83,
      "outputs": [
        {
          "output_type": "execute_result",
          "data": {
            "text/plain": [
              "array([[-0.26726124, -1.22474487, -1.22474487],\n",
              "       [-0.26726124, -1.22474487,  0.        ],\n",
              "       [-0.26726124, -1.22474487,  1.22474487],\n",
              "       [-0.26726124,  0.        , -1.22474487],\n",
              "       [-0.26726124,  0.        ,  0.        ],\n",
              "       [-0.26726124,  0.        ,  1.22474487],\n",
              "       [-0.26726124,  1.22474487, -1.22474487],\n",
              "       [-0.26726124,  1.22474487,  0.        ],\n",
              "       [-0.26726124,  1.22474487,  1.22474487],\n",
              "       [ 1.33630621, -1.22474487, -1.22474487],\n",
              "       [ 1.33630621, -1.22474487,  0.        ],\n",
              "       [ 1.33630621, -1.22474487,  1.22474487],\n",
              "       [ 1.33630621,  0.        , -1.22474487],\n",
              "       [ 1.33630621,  0.        ,  0.        ],\n",
              "       [ 1.33630621,  0.        ,  1.22474487],\n",
              "       [ 1.33630621,  1.22474487, -1.22474487],\n",
              "       [ 1.33630621,  1.22474487,  0.        ],\n",
              "       [ 1.33630621,  1.22474487,  1.22474487],\n",
              "       [-1.06904497, -1.22474487, -1.22474487],\n",
              "       [-1.06904497, -1.22474487,  0.        ],\n",
              "       [-1.06904497, -1.22474487,  1.22474487],\n",
              "       [-1.06904497,  0.        , -1.22474487],\n",
              "       [-1.06904497,  0.        ,  0.        ],\n",
              "       [-1.06904497,  0.        ,  1.22474487],\n",
              "       [-1.06904497,  1.22474487, -1.22474487],\n",
              "       [-1.06904497,  1.22474487,  0.        ],\n",
              "       [-1.06904497,  1.22474487,  1.22474487]])"
            ]
          },
          "metadata": {},
          "execution_count": 83
        }
      ]
    },
    {
      "cell_type": "code",
      "source": [
        "from sklearn.model_selection import train_test_split\n",
        "X_train,X_test,y_train,y_test=train_test_split(X,y,test_size=0.2,shuffle=True)"
      ],
      "metadata": {
        "id": "HmEG3X5-ItNq"
      },
      "execution_count": 88,
      "outputs": []
    },
    {
      "cell_type": "code",
      "source": [
        "X_train.shape"
      ],
      "metadata": {
        "colab": {
          "base_uri": "https://localhost:8080/"
        },
        "id": "wHASrp6eI9qL",
        "outputId": "41e73ff2-2365-4464-8ec4-f54dd742fa21"
      },
      "execution_count": 89,
      "outputs": [
        {
          "output_type": "execute_result",
          "data": {
            "text/plain": [
              "(21, 3)"
            ]
          },
          "metadata": {},
          "execution_count": 89
        }
      ]
    },
    {
      "cell_type": "code",
      "source": [
        "X_test.shape"
      ],
      "metadata": {
        "colab": {
          "base_uri": "https://localhost:8080/"
        },
        "id": "oJeSr-rtJA06",
        "outputId": "cc3fb082-5cc5-4887-c048-4fa2b7ec9336"
      },
      "execution_count": 90,
      "outputs": [
        {
          "output_type": "execute_result",
          "data": {
            "text/plain": [
              "(6, 3)"
            ]
          },
          "metadata": {},
          "execution_count": 90
        }
      ]
    },
    {
      "cell_type": "markdown",
      "source": [
        "## Now build a ANN model"
      ],
      "metadata": {
        "id": "UzKP5wjvHKnT"
      }
    },
    {
      "cell_type": "code",
      "source": [
        "import tensorflow as tf"
      ],
      "metadata": {
        "id": "wYsZZtdEHH18"
      },
      "execution_count": 91,
      "outputs": []
    },
    {
      "cell_type": "code",
      "source": [
        "# Initailizing the ANN\n",
        "ann = tf.keras.models.Sequential()\n",
        "\n",
        "# Adding the input layer and the first hidden layer\n",
        "ann.add(tf.keras.layers.Dense(units=3, activation='linear'))\n",
        "\n",
        "# Adding the second hidden layer\n",
        "ann.add(tf.keras.layers.Dense(units=6, activation='linear'))\n",
        "\n",
        "# Adding the output layer\n",
        "ann.add(tf.keras.layers.Dense(units=1))"
      ],
      "metadata": {
        "id": "PJXsjUbeHc1d"
      },
      "execution_count": 151,
      "outputs": []
    },
    {
      "cell_type": "markdown",
      "source": [
        "## Training the ANN"
      ],
      "metadata": {
        "id": "vQsjvq1nKznw"
      }
    },
    {
      "cell_type": "code",
      "source": [
        "# Compiling the ANN\n",
        "ann.compile(optimizer = 'adam', loss = 'mean_squared_error',metrics=['MeanSquaredLogarithmicError'])"
      ],
      "metadata": {
        "id": "eorv9lV6KIct"
      },
      "execution_count": 152,
      "outputs": []
    },
    {
      "cell_type": "code",
      "source": [
        "# Training the ANN model on the Training set\n",
        "model = ann.fit(X_train, y_train, batch_size = 1, epochs = 100,shuffle=True)"
      ],
      "metadata": {
        "colab": {
          "base_uri": "https://localhost:8080/"
        },
        "id": "eurnPIZhJ6ww",
        "outputId": "541eaccb-2097-4fa9-bb56-52c5c1ecb692"
      },
      "execution_count": 153,
      "outputs": [
        {
          "output_type": "stream",
          "name": "stdout",
          "text": [
            "Epoch 1/100\n",
            "21/21 [==============================] - 0s 2ms/step - loss: 414.2209 - mean_squared_logarithmic_error: 2.5091\n",
            "Epoch 2/100\n",
            "21/21 [==============================] - 0s 2ms/step - loss: 258.1017 - mean_squared_logarithmic_error: 0.9283\n",
            "Epoch 3/100\n",
            "21/21 [==============================] - 0s 2ms/step - loss: 193.2411 - mean_squared_logarithmic_error: 0.3661\n",
            "Epoch 4/100\n",
            "21/21 [==============================] - 0s 2ms/step - loss: 150.7399 - mean_squared_logarithmic_error: 0.2360\n",
            "Epoch 5/100\n",
            "21/21 [==============================] - 0s 2ms/step - loss: 123.6756 - mean_squared_logarithmic_error: 0.1726\n",
            "Epoch 6/100\n",
            "21/21 [==============================] - 0s 2ms/step - loss: 106.2316 - mean_squared_logarithmic_error: 0.1371\n",
            "Epoch 7/100\n",
            "21/21 [==============================] - 0s 2ms/step - loss: 88.6669 - mean_squared_logarithmic_error: 0.1090\n",
            "Epoch 8/100\n",
            "21/21 [==============================] - 0s 2ms/step - loss: 75.2101 - mean_squared_logarithmic_error: 0.0907\n",
            "Epoch 9/100\n",
            "21/21 [==============================] - 0s 2ms/step - loss: 65.2600 - mean_squared_logarithmic_error: 0.0793\n",
            "Epoch 10/100\n",
            "21/21 [==============================] - 0s 2ms/step - loss: 54.1814 - mean_squared_logarithmic_error: 0.0644\n",
            "Epoch 11/100\n",
            "21/21 [==============================] - 0s 2ms/step - loss: 46.4065 - mean_squared_logarithmic_error: 0.0532\n",
            "Epoch 12/100\n",
            "21/21 [==============================] - 0s 1ms/step - loss: 39.9255 - mean_squared_logarithmic_error: 0.0452\n",
            "Epoch 13/100\n",
            "21/21 [==============================] - 0s 2ms/step - loss: 34.3815 - mean_squared_logarithmic_error: 0.0385\n",
            "Epoch 14/100\n",
            "21/21 [==============================] - 0s 2ms/step - loss: 30.4265 - mean_squared_logarithmic_error: 0.0350\n",
            "Epoch 15/100\n",
            "21/21 [==============================] - 0s 2ms/step - loss: 26.1685 - mean_squared_logarithmic_error: 0.0296\n",
            "Epoch 16/100\n",
            "21/21 [==============================] - 0s 2ms/step - loss: 23.4019 - mean_squared_logarithmic_error: 0.0264\n",
            "Epoch 17/100\n",
            "21/21 [==============================] - 0s 1ms/step - loss: 20.4796 - mean_squared_logarithmic_error: 0.0229\n",
            "Epoch 18/100\n",
            "21/21 [==============================] - 0s 1ms/step - loss: 18.6226 - mean_squared_logarithmic_error: 0.0209\n",
            "Epoch 19/100\n",
            "21/21 [==============================] - 0s 1ms/step - loss: 17.2137 - mean_squared_logarithmic_error: 0.0195\n",
            "Epoch 20/100\n",
            "21/21 [==============================] - 0s 2ms/step - loss: 15.7191 - mean_squared_logarithmic_error: 0.0176\n",
            "Epoch 21/100\n",
            "21/21 [==============================] - 0s 2ms/step - loss: 15.2788 - mean_squared_logarithmic_error: 0.0168\n",
            "Epoch 22/100\n",
            "21/21 [==============================] - 0s 2ms/step - loss: 14.3638 - mean_squared_logarithmic_error: 0.0162\n",
            "Epoch 23/100\n",
            "21/21 [==============================] - 0s 2ms/step - loss: 13.3038 - mean_squared_logarithmic_error: 0.0151\n",
            "Epoch 24/100\n",
            "21/21 [==============================] - 0s 2ms/step - loss: 12.8371 - mean_squared_logarithmic_error: 0.0145\n",
            "Epoch 25/100\n",
            "21/21 [==============================] - 0s 2ms/step - loss: 12.7503 - mean_squared_logarithmic_error: 0.0145\n",
            "Epoch 26/100\n",
            "21/21 [==============================] - 0s 1ms/step - loss: 12.2229 - mean_squared_logarithmic_error: 0.0138\n",
            "Epoch 27/100\n",
            "21/21 [==============================] - 0s 2ms/step - loss: 11.9564 - mean_squared_logarithmic_error: 0.0136\n",
            "Epoch 28/100\n",
            "21/21 [==============================] - 0s 2ms/step - loss: 12.1884 - mean_squared_logarithmic_error: 0.0138\n",
            "Epoch 29/100\n",
            "21/21 [==============================] - 0s 2ms/step - loss: 12.0777 - mean_squared_logarithmic_error: 0.0133\n",
            "Epoch 30/100\n",
            "21/21 [==============================] - 0s 2ms/step - loss: 12.4266 - mean_squared_logarithmic_error: 0.0144\n",
            "Epoch 31/100\n",
            "21/21 [==============================] - 0s 1ms/step - loss: 11.5409 - mean_squared_logarithmic_error: 0.0130\n",
            "Epoch 32/100\n",
            "21/21 [==============================] - 0s 2ms/step - loss: 11.4756 - mean_squared_logarithmic_error: 0.0128\n",
            "Epoch 33/100\n",
            "21/21 [==============================] - 0s 2ms/step - loss: 11.4609 - mean_squared_logarithmic_error: 0.0128\n",
            "Epoch 34/100\n",
            "21/21 [==============================] - 0s 2ms/step - loss: 11.4318 - mean_squared_logarithmic_error: 0.0129\n",
            "Epoch 35/100\n",
            "21/21 [==============================] - 0s 2ms/step - loss: 11.7991 - mean_squared_logarithmic_error: 0.0136\n",
            "Epoch 36/100\n",
            "21/21 [==============================] - 0s 2ms/step - loss: 12.0412 - mean_squared_logarithmic_error: 0.0140\n",
            "Epoch 37/100\n",
            "21/21 [==============================] - 0s 2ms/step - loss: 11.7484 - mean_squared_logarithmic_error: 0.0130\n",
            "Epoch 38/100\n",
            "21/21 [==============================] - 0s 2ms/step - loss: 11.3261 - mean_squared_logarithmic_error: 0.0127\n",
            "Epoch 39/100\n",
            "21/21 [==============================] - 0s 2ms/step - loss: 11.5062 - mean_squared_logarithmic_error: 0.0131\n",
            "Epoch 40/100\n",
            "21/21 [==============================] - 0s 2ms/step - loss: 12.1032 - mean_squared_logarithmic_error: 0.0141\n",
            "Epoch 41/100\n",
            "21/21 [==============================] - 0s 2ms/step - loss: 11.4010 - mean_squared_logarithmic_error: 0.0129\n",
            "Epoch 42/100\n",
            "21/21 [==============================] - 0s 2ms/step - loss: 11.3675 - mean_squared_logarithmic_error: 0.0130\n",
            "Epoch 43/100\n",
            "21/21 [==============================] - 0s 2ms/step - loss: 11.7783 - mean_squared_logarithmic_error: 0.0134\n",
            "Epoch 44/100\n",
            "21/21 [==============================] - 0s 2ms/step - loss: 11.2269 - mean_squared_logarithmic_error: 0.0128\n",
            "Epoch 45/100\n",
            "21/21 [==============================] - 0s 2ms/step - loss: 11.2793 - mean_squared_logarithmic_error: 0.0127\n",
            "Epoch 46/100\n",
            "21/21 [==============================] - 0s 2ms/step - loss: 11.5418 - mean_squared_logarithmic_error: 0.0130\n",
            "Epoch 47/100\n",
            "21/21 [==============================] - 0s 2ms/step - loss: 11.7062 - mean_squared_logarithmic_error: 0.0137\n",
            "Epoch 48/100\n",
            "21/21 [==============================] - 0s 2ms/step - loss: 11.7424 - mean_squared_logarithmic_error: 0.0129\n",
            "Epoch 49/100\n",
            "21/21 [==============================] - 0s 2ms/step - loss: 11.4210 - mean_squared_logarithmic_error: 0.0131\n",
            "Epoch 50/100\n",
            "21/21 [==============================] - 0s 2ms/step - loss: 11.2473 - mean_squared_logarithmic_error: 0.0130\n",
            "Epoch 51/100\n",
            "21/21 [==============================] - 0s 2ms/step - loss: 11.7168 - mean_squared_logarithmic_error: 0.0136\n",
            "Epoch 52/100\n",
            "21/21 [==============================] - 0s 2ms/step - loss: 11.7150 - mean_squared_logarithmic_error: 0.0131\n",
            "Epoch 53/100\n",
            "21/21 [==============================] - 0s 2ms/step - loss: 11.1987 - mean_squared_logarithmic_error: 0.0127\n",
            "Epoch 54/100\n",
            "21/21 [==============================] - 0s 2ms/step - loss: 12.0106 - mean_squared_logarithmic_error: 0.0134\n",
            "Epoch 55/100\n",
            "21/21 [==============================] - 0s 2ms/step - loss: 12.2201 - mean_squared_logarithmic_error: 0.0145\n",
            "Epoch 56/100\n",
            "21/21 [==============================] - 0s 2ms/step - loss: 11.0995 - mean_squared_logarithmic_error: 0.0129\n",
            "Epoch 57/100\n",
            "21/21 [==============================] - 0s 1ms/step - loss: 11.4571 - mean_squared_logarithmic_error: 0.0126\n",
            "Epoch 58/100\n",
            "21/21 [==============================] - 0s 2ms/step - loss: 11.4838 - mean_squared_logarithmic_error: 0.0127\n",
            "Epoch 59/100\n",
            "21/21 [==============================] - 0s 2ms/step - loss: 11.1879 - mean_squared_logarithmic_error: 0.0127\n",
            "Epoch 60/100\n",
            "21/21 [==============================] - 0s 2ms/step - loss: 11.4733 - mean_squared_logarithmic_error: 0.0130\n",
            "Epoch 61/100\n",
            "21/21 [==============================] - 0s 2ms/step - loss: 12.8915 - mean_squared_logarithmic_error: 0.0156\n",
            "Epoch 62/100\n",
            "21/21 [==============================] - 0s 2ms/step - loss: 11.1186 - mean_squared_logarithmic_error: 0.0122\n",
            "Epoch 63/100\n",
            "21/21 [==============================] - 0s 2ms/step - loss: 12.0124 - mean_squared_logarithmic_error: 0.0129\n",
            "Epoch 64/100\n",
            "21/21 [==============================] - 0s 2ms/step - loss: 13.3386 - mean_squared_logarithmic_error: 0.0158\n",
            "Epoch 65/100\n",
            "21/21 [==============================] - 0s 2ms/step - loss: 10.8892 - mean_squared_logarithmic_error: 0.0126\n",
            "Epoch 66/100\n",
            "21/21 [==============================] - 0s 2ms/step - loss: 12.1633 - mean_squared_logarithmic_error: 0.0130\n",
            "Epoch 67/100\n",
            "21/21 [==============================] - 0s 2ms/step - loss: 11.3668 - mean_squared_logarithmic_error: 0.0134\n",
            "Epoch 68/100\n",
            "21/21 [==============================] - 0s 2ms/step - loss: 11.2847 - mean_squared_logarithmic_error: 0.0129\n",
            "Epoch 69/100\n",
            "21/21 [==============================] - 0s 2ms/step - loss: 11.4119 - mean_squared_logarithmic_error: 0.0131\n",
            "Epoch 70/100\n",
            "21/21 [==============================] - 0s 2ms/step - loss: 11.3731 - mean_squared_logarithmic_error: 0.0126\n",
            "Epoch 71/100\n",
            "21/21 [==============================] - 0s 2ms/step - loss: 11.1823 - mean_squared_logarithmic_error: 0.0127   \n",
            "Epoch 72/100\n",
            "21/21 [==============================] - 0s 1ms/step - loss: 11.8946 - mean_squared_logarithmic_error: 0.0135\n",
            "Epoch 73/100\n",
            "21/21 [==============================] - 0s 1ms/step - loss: 11.3002 - mean_squared_logarithmic_error: 0.0130\n",
            "Epoch 74/100\n",
            "21/21 [==============================] - 0s 1ms/step - loss: 11.3391 - mean_squared_logarithmic_error: 0.0131\n",
            "Epoch 75/100\n",
            "21/21 [==============================] - 0s 2ms/step - loss: 11.7422 - mean_squared_logarithmic_error: 0.0130\n",
            "Epoch 76/100\n",
            "21/21 [==============================] - 0s 2ms/step - loss: 11.5941 - mean_squared_logarithmic_error: 0.0132\n",
            "Epoch 77/100\n",
            "21/21 [==============================] - 0s 2ms/step - loss: 11.3440 - mean_squared_logarithmic_error: 0.0133\n",
            "Epoch 78/100\n",
            "21/21 [==============================] - 0s 2ms/step - loss: 11.5107 - mean_squared_logarithmic_error: 0.0127\n",
            "Epoch 79/100\n",
            "21/21 [==============================] - 0s 2ms/step - loss: 11.6237 - mean_squared_logarithmic_error: 0.0132\n",
            "Epoch 80/100\n",
            "21/21 [==============================] - 0s 1ms/step - loss: 11.5863 - mean_squared_logarithmic_error: 0.0133\n",
            "Epoch 81/100\n",
            "21/21 [==============================] - 0s 2ms/step - loss: 11.0486 - mean_squared_logarithmic_error: 0.0124\n",
            "Epoch 82/100\n",
            "21/21 [==============================] - 0s 2ms/step - loss: 11.3282 - mean_squared_logarithmic_error: 0.0131\n",
            "Epoch 83/100\n",
            "21/21 [==============================] - 0s 2ms/step - loss: 10.8715 - mean_squared_logarithmic_error: 0.0125\n",
            "Epoch 84/100\n",
            "21/21 [==============================] - 0s 2ms/step - loss: 11.2370 - mean_squared_logarithmic_error: 0.0128\n",
            "Epoch 85/100\n",
            "21/21 [==============================] - 0s 2ms/step - loss: 11.2780 - mean_squared_logarithmic_error: 0.0128\n",
            "Epoch 86/100\n",
            "21/21 [==============================] - 0s 1ms/step - loss: 11.3205 - mean_squared_logarithmic_error: 0.0127\n",
            "Epoch 87/100\n",
            "21/21 [==============================] - 0s 2ms/step - loss: 11.4986 - mean_squared_logarithmic_error: 0.0133\n",
            "Epoch 88/100\n",
            "21/21 [==============================] - 0s 2ms/step - loss: 11.0545 - mean_squared_logarithmic_error: 0.0122\n",
            "Epoch 89/100\n",
            "21/21 [==============================] - 0s 2ms/step - loss: 10.9174 - mean_squared_logarithmic_error: 0.0125\n",
            "Epoch 90/100\n",
            "21/21 [==============================] - 0s 2ms/step - loss: 11.2256 - mean_squared_logarithmic_error: 0.0132\n",
            "Epoch 91/100\n",
            "21/21 [==============================] - 0s 2ms/step - loss: 12.0189 - mean_squared_logarithmic_error: 0.0128\n",
            "Epoch 92/100\n",
            "21/21 [==============================] - 0s 2ms/step - loss: 11.3881 - mean_squared_logarithmic_error: 0.0132\n",
            "Epoch 93/100\n",
            "21/21 [==============================] - 0s 2ms/step - loss: 11.9362 - mean_squared_logarithmic_error: 0.0134\n",
            "Epoch 94/100\n",
            "21/21 [==============================] - 0s 2ms/step - loss: 11.3266 - mean_squared_logarithmic_error: 0.0130\n",
            "Epoch 95/100\n",
            "21/21 [==============================] - 0s 2ms/step - loss: 11.3100 - mean_squared_logarithmic_error: 0.0134\n",
            "Epoch 96/100\n",
            "21/21 [==============================] - 0s 2ms/step - loss: 11.3467 - mean_squared_logarithmic_error: 0.0122\n",
            "Epoch 97/100\n",
            "21/21 [==============================] - 0s 2ms/step - loss: 11.7193 - mean_squared_logarithmic_error: 0.0138\n",
            "Epoch 98/100\n",
            "21/21 [==============================] - 0s 2ms/step - loss: 11.3763 - mean_squared_logarithmic_error: 0.0129\n",
            "Epoch 99/100\n",
            "21/21 [==============================] - 0s 2ms/step - loss: 11.8677 - mean_squared_logarithmic_error: 0.0137\n",
            "Epoch 100/100\n",
            "21/21 [==============================] - 0s 2ms/step - loss: 11.7211 - mean_squared_logarithmic_error: 0.0129\n"
          ]
        }
      ]
    },
    {
      "cell_type": "markdown",
      "source": [
        "## Predicting the results of the Test set"
      ],
      "metadata": {
        "id": "jn-l6l0_L8dP"
      }
    },
    {
      "cell_type": "code",
      "source": [
        "y_pred = ann.predict(X_test)"
      ],
      "metadata": {
        "colab": {
          "base_uri": "https://localhost:8080/"
        },
        "id": "FgQjP1J5L1So",
        "outputId": "4790e779-c749-463a-f455-d875c3d22653"
      },
      "execution_count": 154,
      "outputs": [
        {
          "output_type": "stream",
          "name": "stderr",
          "text": [
            "WARNING:tensorflow:6 out of the last 7 calls to <function Model.make_predict_function.<locals>.predict_function at 0x7f5d6bf969e0> triggered tf.function retracing. Tracing is expensive and the excessive number of tracings could be due to (1) creating @tf.function repeatedly in a loop, (2) passing tensors with different shapes, (3) passing Python objects instead of tensors. For (1), please define your @tf.function outside of the loop. For (2), @tf.function has reduce_retracing=True option that can avoid unnecessary retracing. For (3), please refer to https://www.tensorflow.org/guide/function#controlling_retracing and https://www.tensorflow.org/api_docs/python/tf/function for  more details.\n"
          ]
        },
        {
          "output_type": "stream",
          "name": "stdout",
          "text": [
            "1/1 [==============================] - 0s 71ms/step\n"
          ]
        }
      ]
    },
    {
      "cell_type": "code",
      "source": [
        "y_pred"
      ],
      "metadata": {
        "colab": {
          "base_uri": "https://localhost:8080/"
        },
        "id": "Gu3fjqClMKIT",
        "outputId": "2fc6184c-4c57-4162-a67c-bc0b8705a536"
      },
      "execution_count": 155,
      "outputs": [
        {
          "output_type": "execute_result",
          "data": {
            "text/plain": [
              "array([[26.41572 ],\n",
              "       [36.286064],\n",
              "       [29.180445],\n",
              "       [22.075298],\n",
              "       [22.075777],\n",
              "       [31.946123]], dtype=float32)"
            ]
          },
          "metadata": {},
          "execution_count": 155
        }
      ]
    },
    {
      "cell_type": "code",
      "source": [
        "from sklearn.metrics import r2_score, mean_squared_error,mean_absolute_percentage_error\n",
        "print('R2 score is = ',r2_score(y_test,y_pred))\n",
        "print('mean_squared_error is = ',mean_squared_error(y_test,y_pred))\n",
        "print('mean_absolute_percentage_error is = ',mean_absolute_percentage_error(y_test,y_pred))"
      ],
      "metadata": {
        "colab": {
          "base_uri": "https://localhost:8080/"
        },
        "id": "d7o06J0tMM8q",
        "outputId": "fda50a98-1434-4197-d4ac-cdb4188c3b9d"
      },
      "execution_count": 156,
      "outputs": [
        {
          "output_type": "stream",
          "name": "stdout",
          "text": [
            "R2 score is =  -2.199449943040633\n",
            "mean_squared_error is =  19.579211673656207\n",
            "mean_absolute_percentage_error is =  0.14116811888016842\n"
          ]
        }
      ]
    },
    {
      "cell_type": "code",
      "source": [
        "def plotGraph(y_test,y_pred,regressorName):\n",
        "    if max(y_test) >= max(y_pred):\n",
        "        my_range = int(max(y_test))\n",
        "    else:\n",
        "        my_range = int(max(y_pred))\n",
        "    plt.scatter(range(len(y_test)), y_test, color='blue')\n",
        "    plt.scatter(range(len(y_pred)), y_pred, color='red')\n",
        "    plt.title(regressorName)\n",
        "    plt.show()\n",
        "    return\n",
        "\n",
        "plotGraph(y_test, y_pred, \"test\")"
      ],
      "metadata": {
        "colab": {
          "base_uri": "https://localhost:8080/",
          "height": 281
        },
        "id": "Kzm_yFtXMsRT",
        "outputId": "5c0683ae-827f-4d40-879c-0bd4613f1a0e"
      },
      "execution_count": 157,
      "outputs": [
        {
          "output_type": "display_data",
          "data": {
            "text/plain": [
              "<Figure size 432x288 with 1 Axes>"
            ],
            "image/png": "[encoded data removed]"
          },
          "metadata": {
            "needs_background": "light"
          }
        }
      ]
    },
    {
      "cell_type": "code",
      "source": [
        "for i in range(0,6):\n",
        "  print(f'Y_test is {y_test[i]} and y_pred is {y_pred[i]} and the Diffrence between them is = {y_test[i]-y_pred[i]}')"
      ],
      "metadata": {
        "colab": {
          "base_uri": "https://localhost:8080/"
        },
        "id": "eLfo7iXjNTDi",
        "outputId": "e770d065-81c5-4349-8dc6-81ced5727834"
      },
      "execution_count": 158,
      "outputs": [
        {
          "output_type": "stream",
          "name": "stdout",
          "text": [
            "Y_test is [31.22] and y_pred is [26.41572] and the Diffrence between them is = [4.80428001]\n",
            "Y_test is [31.57] and y_pred is [36.286064] and the Diffrence between them is = [-4.71606415]\n",
            "Y_test is [29.76] and y_pred is [29.180445] and the Diffrence between them is = [0.57955528]\n",
            "Y_test is [28.01] and y_pred is [22.075298] and the Diffrence between them is = [5.93470169]\n",
            "Y_test is [24.73] and y_pred is [22.075777] and the Diffrence between them is = [2.65422295]\n",
            "Y_test is [26.51] and y_pred is [31.946123] and the Diffrence between them is = [-5.43612312]\n"
          ]
        }
      ]
    }
  ]
}