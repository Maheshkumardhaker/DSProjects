{
  "nbformat": 4,
  "nbformat_minor": 0,
  "metadata": {
    "colab": {
      "name": "IPL2022.ipynb",
      "provenance": []
    },
    "kernelspec": {
      "name": "python3",
      "display_name": "Python 3"
    },
    "language_info": {
      "name": "python"
    }
  },
  "cells": [
    {
      "cell_type": "markdown",
      "source": [
        "# The dataset contains all the information needed to summarize the story of IPL 2022 so far."
      ],
      "metadata": {
        "id": "gs6U4xce6mot"
      }
    },
    {
      "cell_type": "code",
      "source": [
        "import numpy as np\n",
        "import pandas as pd\n",
        "import matplotlib.pyplot as plt \n",
        "ipl_data=pd.read_csv('/content/drive/MyDrive/projectData/Book_ipl22_ver_31.csv')"
      ],
      "metadata": {
        "id": "kz05sOUl6oW_"
      },
      "execution_count": 115,
      "outputs": []
    },
    {
      "cell_type": "code",
      "source": [
        "ipl_data.head(10)"
      ],
      "metadata": {
        "colab": {
          "base_uri": "https://localhost:8080/",
          "height": 861
        },
        "id": "yQkCaaV17uPO",
        "outputId": "1c0c277c-228b-4427-d6df-f7e8c66412e1"
      },
      "execution_count": 116,
      "outputs": [
        {
          "output_type": "execute_result",
          "data": {
            "text/plain": [
              "   match_id           date                                         venue  \\\n",
              "0         1  March 26,2022                      Wankhede Stadium, Mumbai   \n",
              "1         2  March 27,2022                     Brabourne Stadium, Mumbai   \n",
              "2         3  March 27,2022            Dr DY Patil Sports Academy, Mumbai   \n",
              "3         4  March 28,2022                      Wankhede Stadium, Mumbai   \n",
              "4         5  March 29,2022  Maharashtra Cricket Association Stadium,Pune   \n",
              "5         6  March 30,2022            Dr DY Patil Sports Academy, Mumbai   \n",
              "6         7  March 31,2022                     Brabourne Stadium, Mumbai   \n",
              "7         8   April 1,2022                      Wankhede Stadium, Mumbai   \n",
              "8         9   April 2,2022            Dr DY Patil Sports Academy, Mumbai   \n",
              "9        10   April 2,2022  Maharashtra Cricket Association Stadium,Pune   \n",
              "\n",
              "       team1      team2  stage toss_winner toss_decision  first_ings_score  \\\n",
              "0    Chennai    Kolkata  Group     Kolkata         Field               131   \n",
              "1      Delhi     Mumbai  Group       Delhi         Field               177   \n",
              "2   Banglore     Punjab  Group      Punjab         Field               205   \n",
              "3    Gujarat    Lucknow  Group     Gujarat         Field               158   \n",
              "4  Hyderabad  Rajasthan  Group   Hyderabad         Field               210   \n",
              "5   Banglore    Kolkata  Group    Banglore         Field               128   \n",
              "6    Chennai    Lucknow  Group     Lucknow         Field               210   \n",
              "7    Kolkata     Punjab  Group     Kolkata         Field               137   \n",
              "8     Mumbai  Rajasthan  Group      Mumbai         Field               193   \n",
              "9      Delhi    Gujarat  Group       Delhi         Field               171   \n",
              "\n",
              "   first_ings_wkts  second_ings_score  second_ings_wkts match_winner   won_by  \\\n",
              "0                5                133                 4      Kolkata  Wickets   \n",
              "1                5                179                 6        Delhi  Wickets   \n",
              "2                2                208                 5       Punjab  Wickets   \n",
              "3                6                161                 5      Gujarat  Wickets   \n",
              "4                6                149                 7    Rajasthan     Runs   \n",
              "5               10                132                 7     Banglore  Wickets   \n",
              "6                7                211                 4      Lucknow  Wickets   \n",
              "7               10                141                 4      Kolkata  Wickets   \n",
              "8                8                170                 8    Rajasthan     Runs   \n",
              "9                6                157                 9      Gujarat     Runs   \n",
              "\n",
              "   margin player_of_the_match           top_scorer  highscore  \\\n",
              "0       6         Umesh Yadav             MS Dhoni         50   \n",
              "1       4       Kuldeep Yadav         Ishan Kishan         81   \n",
              "2       5         Odean Smith       Faf du Plessis         88   \n",
              "3       5      Mohammed Shami         Deepak Hooda         55   \n",
              "4      61        Sanju Samson        Aiden Markram         57   \n",
              "5       3   Wanindu Hasaranga  Sherfane Rutherford         28   \n",
              "6       6          Evin Lewis      Quinton de Kock         61   \n",
              "7       6         Umesh Yadav        Andre Russell         70   \n",
              "8      23         Jos Buttler          Jos Buttler        100   \n",
              "9      14     Lockie Ferguson         Shubman Gill         84   \n",
              "\n",
              "        best_bowling best_bowling_figure  \n",
              "0       Dwayne Bravo               3--20  \n",
              "1      Kuldeep Yadav               3--18  \n",
              "2     Mohammed Siraj               2--59  \n",
              "3     Mohammed Shami               3--25  \n",
              "4   Yuzvendra Chahal               3--22  \n",
              "5  Wanindu Hasaranga               4--20  \n",
              "6       Ravi Bishnoi               2--24  \n",
              "7        Umesh Yadav               4--23  \n",
              "8     Jasprit Bumrah               3--17  \n",
              "9    Lockie Ferguson               4--28  "
            ],
            "text/html": [
              "\n",
              "  <div id=\"df-e59eb2b0-fd3b-4992-8ba0-b7b71fc6ecf0\">\n",
              "    <div class=\"colab-df-container\">\n",
              "      <div>\n",
              "<style scoped>\n",
              "    .dataframe tbody tr th:only-of-type {\n",
              "        vertical-align: middle;\n",
              "    }\n",
              "\n",
              "    .dataframe tbody tr th {\n",
              "        vertical-align: top;\n",
              "    }\n",
              "\n",
              "    .dataframe thead th {\n",
              "        text-align: right;\n",
              "    }\n",
              "</style>\n",
              "<table border=\"1\" class=\"dataframe\">\n",
              "  <thead>\n",
              "    <tr style=\"text-align: right;\">\n",
              "      <th></th>\n",
              "      <th>match_id</th>\n",
              "      <th>date</th>\n",
              "      <th>venue</th>\n",
              "      <th>team1</th>\n",
              "      <th>team2</th>\n",
              "      <th>stage</th>\n",
              "      <th>toss_winner</th>\n",
              "      <th>toss_decision</th>\n",
              "      <th>first_ings_score</th>\n",
              "      <th>first_ings_wkts</th>\n",
              "      <th>second_ings_score</th>\n",
              "      <th>second_ings_wkts</th>\n",
              "      <th>match_winner</th>\n",
              "      <th>won_by</th>\n",
              "      <th>margin</th>\n",
              "      <th>player_of_the_match</th>\n",
              "      <th>top_scorer</th>\n",
              "      <th>highscore</th>\n",
              "      <th>best_bowling</th>\n",
              "      <th>best_bowling_figure</th>\n",
              "    </tr>\n",
              "  </thead>\n",
              "  <tbody>\n",
              "    <tr>\n",
              "      <th>0</th>\n",
              "      <td>1</td>\n",
              "      <td>March 26,2022</td>\n",
              "      <td>Wankhede Stadium, Mumbai</td>\n",
              "      <td>Chennai</td>\n",
              "      <td>Kolkata</td>\n",
              "      <td>Group</td>\n",
              "      <td>Kolkata</td>\n",
              "      <td>Field</td>\n",
              "      <td>131</td>\n",
              "      <td>5</td>\n",
              "      <td>133</td>\n",
              "      <td>4</td>\n",
              "      <td>Kolkata</td>\n",
              "      <td>Wickets</td>\n",
              "      <td>6</td>\n",
              "      <td>Umesh Yadav</td>\n",
              "      <td>MS Dhoni</td>\n",
              "      <td>50</td>\n",
              "      <td>Dwayne Bravo</td>\n",
              "      <td>3--20</td>\n",
              "    </tr>\n",
              "    <tr>\n",
              "      <th>1</th>\n",
              "      <td>2</td>\n",
              "      <td>March 27,2022</td>\n",
              "      <td>Brabourne Stadium, Mumbai</td>\n",
              "      <td>Delhi</td>\n",
              "      <td>Mumbai</td>\n",
              "      <td>Group</td>\n",
              "      <td>Delhi</td>\n",
              "      <td>Field</td>\n",
              "      <td>177</td>\n",
              "      <td>5</td>\n",
              "      <td>179</td>\n",
              "      <td>6</td>\n",
              "      <td>Delhi</td>\n",
              "      <td>Wickets</td>\n",
              "      <td>4</td>\n",
              "      <td>Kuldeep Yadav</td>\n",
              "      <td>Ishan Kishan</td>\n",
              "      <td>81</td>\n",
              "      <td>Kuldeep Yadav</td>\n",
              "      <td>3--18</td>\n",
              "    </tr>\n",
              "    <tr>\n",
              "      <th>2</th>\n",
              "      <td>3</td>\n",
              "      <td>March 27,2022</td>\n",
              "      <td>Dr DY Patil Sports Academy, Mumbai</td>\n",
              "      <td>Banglore</td>\n",
              "      <td>Punjab</td>\n",
              "      <td>Group</td>\n",
              "      <td>Punjab</td>\n",
              "      <td>Field</td>\n",
              "      <td>205</td>\n",
              "      <td>2</td>\n",
              "      <td>208</td>\n",
              "      <td>5</td>\n",
              "      <td>Punjab</td>\n",
              "      <td>Wickets</td>\n",
              "      <td>5</td>\n",
              "      <td>Odean Smith</td>\n",
              "      <td>Faf du Plessis</td>\n",
              "      <td>88</td>\n",
              "      <td>Mohammed Siraj</td>\n",
              "      <td>2--59</td>\n",
              "    </tr>\n",
              "    <tr>\n",
              "      <th>3</th>\n",
              "      <td>4</td>\n",
              "      <td>March 28,2022</td>\n",
              "      <td>Wankhede Stadium, Mumbai</td>\n",
              "      <td>Gujarat</td>\n",
              "      <td>Lucknow</td>\n",
              "      <td>Group</td>\n",
              "      <td>Gujarat</td>\n",
              "      <td>Field</td>\n",
              "      <td>158</td>\n",
              "      <td>6</td>\n",
              "      <td>161</td>\n",
              "      <td>5</td>\n",
              "      <td>Gujarat</td>\n",
              "      <td>Wickets</td>\n",
              "      <td>5</td>\n",
              "      <td>Mohammed Shami</td>\n",
              "      <td>Deepak Hooda</td>\n",
              "      <td>55</td>\n",
              "      <td>Mohammed Shami</td>\n",
              "      <td>3--25</td>\n",
              "    </tr>\n",
              "    <tr>\n",
              "      <th>4</th>\n",
              "      <td>5</td>\n",
              "      <td>March 29,2022</td>\n",
              "      <td>Maharashtra Cricket Association Stadium,Pune</td>\n",
              "      <td>Hyderabad</td>\n",
              "      <td>Rajasthan</td>\n",
              "      <td>Group</td>\n",
              "      <td>Hyderabad</td>\n",
              "      <td>Field</td>\n",
              "      <td>210</td>\n",
              "      <td>6</td>\n",
              "      <td>149</td>\n",
              "      <td>7</td>\n",
              "      <td>Rajasthan</td>\n",
              "      <td>Runs</td>\n",
              "      <td>61</td>\n",
              "      <td>Sanju Samson</td>\n",
              "      <td>Aiden Markram</td>\n",
              "      <td>57</td>\n",
              "      <td>Yuzvendra Chahal</td>\n",
              "      <td>3--22</td>\n",
              "    </tr>\n",
              "    <tr>\n",
              "      <th>5</th>\n",
              "      <td>6</td>\n",
              "      <td>March 30,2022</td>\n",
              "      <td>Dr DY Patil Sports Academy, Mumbai</td>\n",
              "      <td>Banglore</td>\n",
              "      <td>Kolkata</td>\n",
              "      <td>Group</td>\n",
              "      <td>Banglore</td>\n",
              "      <td>Field</td>\n",
              "      <td>128</td>\n",
              "      <td>10</td>\n",
              "      <td>132</td>\n",
              "      <td>7</td>\n",
              "      <td>Banglore</td>\n",
              "      <td>Wickets</td>\n",
              "      <td>3</td>\n",
              "      <td>Wanindu Hasaranga</td>\n",
              "      <td>Sherfane Rutherford</td>\n",
              "      <td>28</td>\n",
              "      <td>Wanindu Hasaranga</td>\n",
              "      <td>4--20</td>\n",
              "    </tr>\n",
              "    <tr>\n",
              "      <th>6</th>\n",
              "      <td>7</td>\n",
              "      <td>March 31,2022</td>\n",
              "      <td>Brabourne Stadium, Mumbai</td>\n",
              "      <td>Chennai</td>\n",
              "      <td>Lucknow</td>\n",
              "      <td>Group</td>\n",
              "      <td>Lucknow</td>\n",
              "      <td>Field</td>\n",
              "      <td>210</td>\n",
              "      <td>7</td>\n",
              "      <td>211</td>\n",
              "      <td>4</td>\n",
              "      <td>Lucknow</td>\n",
              "      <td>Wickets</td>\n",
              "      <td>6</td>\n",
              "      <td>Evin Lewis</td>\n",
              "      <td>Quinton de Kock</td>\n",
              "      <td>61</td>\n",
              "      <td>Ravi Bishnoi</td>\n",
              "      <td>2--24</td>\n",
              "    </tr>\n",
              "    <tr>\n",
              "      <th>7</th>\n",
              "      <td>8</td>\n",
              "      <td>April 1,2022</td>\n",
              "      <td>Wankhede Stadium, Mumbai</td>\n",
              "      <td>Kolkata</td>\n",
              "      <td>Punjab</td>\n",
              "      <td>Group</td>\n",
              "      <td>Kolkata</td>\n",
              "      <td>Field</td>\n",
              "      <td>137</td>\n",
              "      <td>10</td>\n",
              "      <td>141</td>\n",
              "      <td>4</td>\n",
              "      <td>Kolkata</td>\n",
              "      <td>Wickets</td>\n",
              "      <td>6</td>\n",
              "      <td>Umesh Yadav</td>\n",
              "      <td>Andre Russell</td>\n",
              "      <td>70</td>\n",
              "      <td>Umesh Yadav</td>\n",
              "      <td>4--23</td>\n",
              "    </tr>\n",
              "    <tr>\n",
              "      <th>8</th>\n",
              "      <td>9</td>\n",
              "      <td>April 2,2022</td>\n",
              "      <td>Dr DY Patil Sports Academy, Mumbai</td>\n",
              "      <td>Mumbai</td>\n",
              "      <td>Rajasthan</td>\n",
              "      <td>Group</td>\n",
              "      <td>Mumbai</td>\n",
              "      <td>Field</td>\n",
              "      <td>193</td>\n",
              "      <td>8</td>\n",
              "      <td>170</td>\n",
              "      <td>8</td>\n",
              "      <td>Rajasthan</td>\n",
              "      <td>Runs</td>\n",
              "      <td>23</td>\n",
              "      <td>Jos Buttler</td>\n",
              "      <td>Jos Buttler</td>\n",
              "      <td>100</td>\n",
              "      <td>Jasprit Bumrah</td>\n",
              "      <td>3--17</td>\n",
              "    </tr>\n",
              "    <tr>\n",
              "      <th>9</th>\n",
              "      <td>10</td>\n",
              "      <td>April 2,2022</td>\n",
              "      <td>Maharashtra Cricket Association Stadium,Pune</td>\n",
              "      <td>Delhi</td>\n",
              "      <td>Gujarat</td>\n",
              "      <td>Group</td>\n",
              "      <td>Delhi</td>\n",
              "      <td>Field</td>\n",
              "      <td>171</td>\n",
              "      <td>6</td>\n",
              "      <td>157</td>\n",
              "      <td>9</td>\n",
              "      <td>Gujarat</td>\n",
              "      <td>Runs</td>\n",
              "      <td>14</td>\n",
              "      <td>Lockie Ferguson</td>\n",
              "      <td>Shubman Gill</td>\n",
              "      <td>84</td>\n",
              "      <td>Lockie Ferguson</td>\n",
              "      <td>4--28</td>\n",
              "    </tr>\n",
              "  </tbody>\n",
              "</table>\n",
              "</div>\n",
              "      <button class=\"colab-df-convert\" onclick=\"convertToInteractive('df-e59eb2b0-fd3b-4992-8ba0-b7b71fc6ecf0')\"\n",
              "              title=\"Convert this dataframe to an interactive table.\"\n",
              "              style=\"display:none;\">\n",
              "        \n",
              "  <svg xmlns=\"http://www.w3.org/2000/svg\" height=\"24px\"viewBox=\"0 0 24 24\"\n",
              "       width=\"24px\">\n",
              "    <path d=\"M0 0h24v24H0V0z\" fill=\"none\"/>\n",
              "    <path d=\"M18.56 5.44l.94 2.06.94-2.06 2.06-.94-2.06-.94-.94-2.06-.94 2.06-2.06.94zm-11 1L8.5 8.5l.94-2.06 2.06-.94-2.06-.94L8.5 2.5l-.94 2.06-2.06.94zm10 10l.94 2.06.94-2.06 2.06-.94-2.06-.94-.94-2.06-.94 2.06-2.06.94z\"/><path d=\"M17.41 7.96l-1.37-1.37c-.4-.4-.92-.59-1.43-.59-.52 0-1.04.2-1.43.59L10.3 9.45l-7.72 7.72c-.78.78-.78 2.05 0 2.83L4 21.41c.39.39.9.59 1.41.59.51 0 1.02-.2 1.41-.59l7.78-7.78 2.81-2.81c.8-.78.8-2.07 0-2.86zM5.41 20L4 18.59l7.72-7.72 1.47 1.35L5.41 20z\"/>\n",
              "  </svg>\n",
              "      </button>\n",
              "      \n",
              "  <style>\n",
              "    .colab-df-container {\n",
              "      display:flex;\n",
              "      flex-wrap:wrap;\n",
              "      gap: 12px;\n",
              "    }\n",
              "\n",
              "    .colab-df-convert {\n",
              "      background-color: #E8F0FE;\n",
              "      border: none;\n",
              "      border-radius: 50%;\n",
              "      cursor: pointer;\n",
              "      display: none;\n",
              "      fill: #1967D2;\n",
              "      height: 32px;\n",
              "      padding: 0 0 0 0;\n",
              "      width: 32px;\n",
              "    }\n",
              "\n",
              "    .colab-df-convert:hover {\n",
              "      background-color: #E2EBFA;\n",
              "      box-shadow: 0px 1px 2px rgba(60, 64, 67, 0.3), 0px 1px 3px 1px rgba(60, 64, 67, 0.15);\n",
              "      fill: #174EA6;\n",
              "    }\n",
              "\n",
              "    [theme=dark] .colab-df-convert {\n",
              "      background-color: #3B4455;\n",
              "      fill: #D2E3FC;\n",
              "    }\n",
              "\n",
              "    [theme=dark] .colab-df-convert:hover {\n",
              "      background-color: #434B5C;\n",
              "      box-shadow: 0px 1px 3px 1px rgba(0, 0, 0, 0.15);\n",
              "      filter: drop-shadow(0px 1px 2px rgba(0, 0, 0, 0.3));\n",
              "      fill: #FFFFFF;\n",
              "    }\n",
              "  </style>\n",
              "\n",
              "      <script>\n",
              "        const buttonEl =\n",
              "          document.querySelector('#df-e59eb2b0-fd3b-4992-8ba0-b7b71fc6ecf0 button.colab-df-convert');\n",
              "        buttonEl.style.display =\n",
              "          google.colab.kernel.accessAllowed ? 'block' : 'none';\n",
              "\n",
              "        async function convertToInteractive(key) {\n",
              "          const element = document.querySelector('#df-e59eb2b0-fd3b-4992-8ba0-b7b71fc6ecf0');\n",
              "          const dataTable =\n",
              "            await google.colab.kernel.invokeFunction('convertToInteractive',\n",
              "                                                     [key], {});\n",
              "          if (!dataTable) return;\n",
              "\n",
              "          const docLinkHtml = 'Like what you see? Visit the ' +\n",
              "            '<a target=\"_blank\" href=https://colab.research.google.com/notebooks/data_table.ipynb>data table notebook</a>'\n",
              "            + ' to learn more about interactive tables.';\n",
              "          element.innerHTML = '';\n",
              "          dataTable['output_type'] = 'display_data';\n",
              "          await google.colab.output.renderOutput(dataTable, element);\n",
              "          const docLink = document.createElement('div');\n",
              "          docLink.innerHTML = docLinkHtml;\n",
              "          element.appendChild(docLink);\n",
              "        }\n",
              "      </script>\n",
              "    </div>\n",
              "  </div>\n",
              "  "
            ]
          },
          "metadata": {},
          "execution_count": 116
        }
      ]
    },
    {
      "cell_type": "code",
      "source": [
        "ipl_data.dtypes"
      ],
      "metadata": {
        "colab": {
          "base_uri": "https://localhost:8080/"
        },
        "id": "aUroF8VJ9buf",
        "outputId": "16439400-2cb7-4239-cdac-96dd421ed2b7"
      },
      "execution_count": 117,
      "outputs": [
        {
          "output_type": "execute_result",
          "data": {
            "text/plain": [
              "match_id                int64\n",
              "date                   object\n",
              "venue                  object\n",
              "team1                  object\n",
              "team2                  object\n",
              "stage                  object\n",
              "toss_winner            object\n",
              "toss_decision          object\n",
              "first_ings_score        int64\n",
              "first_ings_wkts         int64\n",
              "second_ings_score       int64\n",
              "second_ings_wkts        int64\n",
              "match_winner           object\n",
              "won_by                 object\n",
              "margin                  int64\n",
              "player_of_the_match    object\n",
              "top_scorer             object\n",
              "highscore               int64\n",
              "best_bowling           object\n",
              "best_bowling_figure    object\n",
              "dtype: object"
            ]
          },
          "metadata": {},
          "execution_count": 117
        }
      ]
    },
    {
      "cell_type": "markdown",
      "source": [
        "# let’s start by looking at the number of matches won by each team in IPL 2022:"
      ],
      "metadata": {
        "id": "0_15MPhc9qto"
      }
    },
    {
      "cell_type": "code",
      "source": [
        "ipl_data['match_winner']"
      ],
      "metadata": {
        "colab": {
          "base_uri": "https://localhost:8080/"
        },
        "id": "BR_qYFKhjZyH",
        "outputId": "22928de0-f013-43e4-89cd-7303e0d25b82"
      },
      "execution_count": 118,
      "outputs": [
        {
          "output_type": "execute_result",
          "data": {
            "text/plain": [
              "0       Kolkata\n",
              "1         Delhi\n",
              "2        Punjab\n",
              "3       Gujarat\n",
              "4     Rajasthan\n",
              "        ...    \n",
              "66     Banglore\n",
              "67    Rajasthan\n",
              "68       Mumbai\n",
              "69       Punjab\n",
              "70      Gujarat\n",
              "Name: match_winner, Length: 71, dtype: object"
            ]
          },
          "metadata": {},
          "execution_count": 118
        }
      ]
    },
    {
      "cell_type": "code",
      "source": [
        "counti=ipl_data['match_winner'].value_counts()"
      ],
      "metadata": {
        "id": "E51uDTSzjZlR"
      },
      "execution_count": 119,
      "outputs": []
    },
    {
      "cell_type": "code",
      "source": [
        "print(counti)"
      ],
      "metadata": {
        "colab": {
          "base_uri": "https://localhost:8080/"
        },
        "id": "kx61ZAO3JAS2",
        "outputId": "2d0d4e6d-8aef-4e45-ee5c-d400353c02f9"
      },
      "execution_count": 120,
      "outputs": [
        {
          "output_type": "stream",
          "name": "stdout",
          "text": [
            "Gujarat      11\n",
            "Rajasthan     9\n",
            "Lucknow       9\n",
            "Banglore      8\n",
            "Delhi         7\n",
            "Punjab        7\n",
            "Kolkata       6\n",
            "Hyderabad     6\n",
            "Chennai       4\n",
            "Mumbai        4\n",
            "Name: match_winner, dtype: int64\n"
          ]
        }
      ]
    },
    {
      "cell_type": "code",
      "source": [
        "from collections import Counter\n",
        "teams = ipl_data['match_winner']\n",
        "counter = {}\n",
        "for winner in teams:\n",
        "  if winner not in counter:\n",
        "    counter[winner] = 0\n",
        "  counter[winner] += 1\n",
        "counter"
      ],
      "metadata": {
        "colab": {
          "base_uri": "https://localhost:8080/"
        },
        "id": "qC3CFv6lMgYn",
        "outputId": "b446eec0-e72b-498c-81cb-ed2c537030a8"
      },
      "execution_count": 121,
      "outputs": [
        {
          "output_type": "execute_result",
          "data": {
            "text/plain": [
              "{'Banglore': 8,\n",
              " 'Chennai': 4,\n",
              " 'Delhi': 7,\n",
              " 'Gujarat': 11,\n",
              " 'Hyderabad': 6,\n",
              " 'Kolkata': 6,\n",
              " 'Lucknow': 9,\n",
              " 'Mumbai': 4,\n",
              " 'Punjab': 7,\n",
              " 'Rajasthan': 9}"
            ]
          },
          "metadata": {},
          "execution_count": 121
        }
      ]
    },
    {
      "cell_type": "code",
      "source": [
        "y=list(counter.values())\n",
        "x=list(counter.keys())"
      ],
      "metadata": {
        "id": "hc7SurppOuwQ"
      },
      "execution_count": 122,
      "outputs": []
    },
    {
      "cell_type": "code",
      "source": [
        "import matplotlib.pyplot as plt\n",
        "plt.bar(x,y)\n",
        "plt.xticks(rotation=30)\n",
        "plt.show()"
      ],
      "metadata": {
        "colab": {
          "base_uri": "https://localhost:8080/",
          "height": 291
        },
        "id": "O_Ab0oTaO7h2",
        "outputId": "9c0a679d-1ab1-461a-c633-50d61812d3a5"
      },
      "execution_count": 123,
      "outputs": [
        {
          "output_type": "display_data",
          "data": {
            "text/plain": [
              "<Figure size 432x288 with 1 Axes>"
            ],
            "image/png": "[encoded data removed]"
          },
          "metadata": {
            "needs_background": "light"
          }
        }
      ]
    },
    {
      "cell_type": "markdown",
      "source": [
        "So, currently, Gujrat is leading the tournament by winning eight matches. It is an achievement as a new team for Gujrat in IPL."
      ],
      "metadata": {
        "id": "2vjUDzf3U-Hq"
      }
    },
    {
      "cell_type": "markdown",
      "source": [
        "# Method 2\n",
        "Using value_counts()"
      ],
      "metadata": {
        "id": "PvzuKQHqcMEj"
      }
    },
    {
      "cell_type": "code",
      "source": [
        "match_winner=ipl_data['match_winner'].value_counts()\n",
        "match_winner"
      ],
      "metadata": {
        "colab": {
          "base_uri": "https://localhost:8080/"
        },
        "id": "LUKXrUsfcKkq",
        "outputId": "d9f5329a-f632-4f16-a08a-3b05d7f14a1c"
      },
      "execution_count": 124,
      "outputs": [
        {
          "output_type": "execute_result",
          "data": {
            "text/plain": [
              "Gujarat      11\n",
              "Rajasthan     9\n",
              "Lucknow       9\n",
              "Banglore      8\n",
              "Delhi         7\n",
              "Punjab        7\n",
              "Kolkata       6\n",
              "Hyderabad     6\n",
              "Chennai       4\n",
              "Mumbai        4\n",
              "Name: match_winner, dtype: int64"
            ]
          },
          "metadata": {},
          "execution_count": 124
        }
      ]
    },
    {
      "cell_type": "code",
      "source": [
        "label = match_winner.index\n",
        "counts = match_winner.values"
      ],
      "metadata": {
        "id": "vrB_QYF2cvqa"
      },
      "execution_count": 125,
      "outputs": []
    },
    {
      "cell_type": "code",
      "source": [
        "label"
      ],
      "metadata": {
        "colab": {
          "base_uri": "https://localhost:8080/"
        },
        "id": "58eeMR7uc9hk",
        "outputId": "51519621-58e2-4757-98d9-72b242af2189"
      },
      "execution_count": 126,
      "outputs": [
        {
          "output_type": "execute_result",
          "data": {
            "text/plain": [
              "Index(['Gujarat', 'Rajasthan', 'Lucknow', 'Banglore', 'Delhi', 'Punjab',\n",
              "       'Kolkata', 'Hyderabad', 'Chennai', 'Mumbai'],\n",
              "      dtype='object')"
            ]
          },
          "metadata": {},
          "execution_count": 126
        }
      ]
    },
    {
      "cell_type": "code",
      "source": [
        "counts"
      ],
      "metadata": {
        "colab": {
          "base_uri": "https://localhost:8080/"
        },
        "id": "Klw7PZtzdAvt",
        "outputId": "5d6c6219-7586-4663-f1f3-4660ce66b0fa"
      },
      "execution_count": 127,
      "outputs": [
        {
          "output_type": "execute_result",
          "data": {
            "text/plain": [
              "array([11,  9,  9,  8,  7,  7,  6,  6,  4,  4])"
            ]
          },
          "metadata": {},
          "execution_count": 127
        }
      ]
    },
    {
      "cell_type": "code",
      "source": [
        "import matplotlib.pyplot as plt\n",
        "plt.bar(label,counts)\n",
        "plt.xticks(rotation=30)\n",
        "plt.show()"
      ],
      "metadata": {
        "colab": {
          "base_uri": "https://localhost:8080/",
          "height": 291
        },
        "id": "4-b6q-11dDie",
        "outputId": "5c942f04-86ad-4b72-990c-23dd4469b279"
      },
      "execution_count": 128,
      "outputs": [
        {
          "output_type": "display_data",
          "data": {
            "text/plain": [
              "<Figure size 432x288 with 1 Axes>"
            ],
            "image/png": "[encoded data removed]"
          },
          "metadata": {
            "needs_background": "light"
          }
        }
      ]
    },
    {
      "cell_type": "markdown",
      "source": [
        "# Now let’s see how most of the teams win. Here we will analyze whether most of the teams win by defending (batting first) or chasing (batting second):"
      ],
      "metadata": {
        "id": "kdXrvEvWVFF8"
      }
    },
    {
      "cell_type": "code",
      "source": [
        "how_win=ipl_data['won_by']\n",
        "how_win"
      ],
      "metadata": {
        "id": "uAVM2xPdU_Pc",
        "colab": {
          "base_uri": "https://localhost:8080/"
        },
        "outputId": "1c3bd827-acfb-412a-f469-fca0a8a84863"
      },
      "execution_count": 129,
      "outputs": [
        {
          "output_type": "execute_result",
          "data": {
            "text/plain": [
              "0     Wickets\n",
              "1     Wickets\n",
              "2     Wickets\n",
              "3     Wickets\n",
              "4        Runs\n",
              "       ...   \n",
              "66    Wickets\n",
              "67    Wickets\n",
              "68    Wickets\n",
              "69    Wickets\n",
              "70    Wickets\n",
              "Name: won_by, Length: 71, dtype: object"
            ]
          },
          "metadata": {},
          "execution_count": 129
        }
      ]
    },
    {
      "cell_type": "code",
      "source": [
        "chas=how_win.loc[how_win=='Wickets']\n",
        "chas"
      ],
      "metadata": {
        "id": "e9wbBA-wWqRq",
        "colab": {
          "base_uri": "https://localhost:8080/"
        },
        "outputId": "8bcf71ae-dab6-4709-a63f-9682c7191696"
      },
      "execution_count": 130,
      "outputs": [
        {
          "output_type": "execute_result",
          "data": {
            "text/plain": [
              "0     Wickets\n",
              "1     Wickets\n",
              "2     Wickets\n",
              "3     Wickets\n",
              "5     Wickets\n",
              "6     Wickets\n",
              "7     Wickets\n",
              "12    Wickets\n",
              "13    Wickets\n",
              "14    Wickets\n",
              "15    Wickets\n",
              "16    Wickets\n",
              "17    Wickets\n",
              "20    Wickets\n",
              "24    Wickets\n",
              "27    Wickets\n",
              "28    Wickets\n",
              "31    Wickets\n",
              "32    Wickets\n",
              "35    Wickets\n",
              "39    Wickets\n",
              "40    Wickets\n",
              "42    Wickets\n",
              "43    Wickets\n",
              "46    Wickets\n",
              "47    Wickets\n",
              "51    Wickets\n",
              "57    Wickets\n",
              "58    Wickets\n",
              "61    Wickets\n",
              "66    Wickets\n",
              "67    Wickets\n",
              "68    Wickets\n",
              "69    Wickets\n",
              "70    Wickets\n",
              "Name: won_by, dtype: object"
            ]
          },
          "metadata": {},
          "execution_count": 130
        }
      ]
    },
    {
      "cell_type": "code",
      "source": [
        "defend=how_win.loc[how_win=='Runs']\n",
        "defend"
      ],
      "metadata": {
        "id": "DE2oYNNNXNB2",
        "colab": {
          "base_uri": "https://localhost:8080/"
        },
        "outputId": "4b1dc708-ec10-4a0e-ac76-1d9c3b8e4eba"
      },
      "execution_count": 131,
      "outputs": [
        {
          "output_type": "execute_result",
          "data": {
            "text/plain": [
              "4     Runs\n",
              "8     Runs\n",
              "9     Runs\n",
              "10    Runs\n",
              "11    Runs\n",
              "18    Runs\n",
              "19    Runs\n",
              "21    Runs\n",
              "22    Runs\n",
              "23    Runs\n",
              "25    Runs\n",
              "26    Runs\n",
              "29    Runs\n",
              "30    Runs\n",
              "33    Runs\n",
              "34    Runs\n",
              "36    Runs\n",
              "37    Runs\n",
              "38    Runs\n",
              "41    Runs\n",
              "44    Runs\n",
              "45    Runs\n",
              "48    Runs\n",
              "49    Runs\n",
              "50    Runs\n",
              "52    Runs\n",
              "53    Runs\n",
              "54    Runs\n",
              "55    Runs\n",
              "56    Runs\n",
              "59    Runs\n",
              "60    Runs\n",
              "62    Runs\n",
              "63    Runs\n",
              "64    Runs\n",
              "65    Runs\n",
              "Name: won_by, dtype: object"
            ]
          },
          "metadata": {},
          "execution_count": 131
        }
      ]
    },
    {
      "cell_type": "code",
      "source": [
        "x_values=['chasing','defending']\n",
        "y_values=[chas.count(),defend.count()]\n",
        "import matplotlib.pyplot as plt\n",
        "plt.bar(x_values,y_values)\n",
        "plt.show()"
      ],
      "metadata": {
        "colab": {
          "base_uri": "https://localhost:8080/",
          "height": 0
        },
        "id": "JGCfd4a8XusV",
        "outputId": "7306dc9e-4fcc-47d9-9088-e9950a78ff54"
      },
      "execution_count": 132,
      "outputs": [
        {
          "output_type": "display_data",
          "data": {
            "text/plain": [
              "<Figure size 432x288 with 1 Axes>"
            ],
            "image/png": "[encoded data removed]"
          },
          "metadata": {
            "needs_background": "light"
          }
        }
      ]
    },
    {
      "cell_type": "code",
      "source": [
        "x_values=['chasing','defending']\n",
        "y_values=[chas.count(),defend.count()]\n",
        "import matplotlib.pyplot as plt\n",
        "plt.pie(y_values, labels=x_values)\n",
        "plt.show()"
      ],
      "metadata": {
        "colab": {
          "base_uri": "https://localhost:8080/",
          "height": 0
        },
        "id": "lYheyc0pYs0v",
        "outputId": "20520fa1-b377-4af4-9a25-b0702530b060"
      },
      "execution_count": 133,
      "outputs": [
        {
          "output_type": "display_data",
          "data": {
            "text/plain": [
              "<Figure size 432x288 with 1 Axes>"
            ],
            "image/png": "[encoded data removed]"
          },
          "metadata": {}
        }
      ]
    },
    {
      "cell_type": "markdown",
      "source": [
        "# Method 2\n",
        "Using value_counts()"
      ],
      "metadata": {
        "id": "7J8lTWHydklg"
      }
    },
    {
      "cell_type": "code",
      "source": [
        "won_by = ipl_data[\"won_by\"].value_counts()\n",
        "label1 = won_by.index\n",
        "counts1 = won_by.values"
      ],
      "metadata": {
        "id": "6jB7PGk8do7k"
      },
      "execution_count": 134,
      "outputs": []
    },
    {
      "cell_type": "code",
      "source": [
        "import matplotlib.pyplot as plt\n",
        "plt.bar(label1,counts1)\n",
        "plt.show()"
      ],
      "metadata": {
        "colab": {
          "base_uri": "https://localhost:8080/",
          "height": 0
        },
        "id": "QRH6RFaCeV6B",
        "outputId": "67b0bae5-91b8-4c3e-ae48-b9835b60ed44"
      },
      "execution_count": 135,
      "outputs": [
        {
          "output_type": "display_data",
          "data": {
            "text/plain": [
              "<Figure size 432x288 with 1 Axes>"
            ],
            "image/png": "[encoded data removed]"
          },
          "metadata": {
            "needs_background": "light"
          }
        }
      ]
    },
    {
      "cell_type": "code",
      "source": [
        "import matplotlib.pyplot as plt\n",
        "plt.pie(counts1, labels=label1,startangle=90,shadow=True,autopct='%1.1f%%')\n",
        "plt.show()"
      ],
      "metadata": {
        "colab": {
          "base_uri": "https://localhost:8080/",
          "height": 0
        },
        "id": "VzQs2oppeBfo",
        "outputId": "5ea9fe22-401d-4f8b-ae59-815e369d470b"
      },
      "execution_count": 136,
      "outputs": [
        {
          "output_type": "display_data",
          "data": {
            "text/plain": [
              "<Figure size 432x288 with 1 Axes>"
            ],
            "image/png": "[encoded data removed]"
          },
          "metadata": {}
        }
      ]
    },
    {
      "cell_type": "markdown",
      "source": [
        "So, currently, 24 matches are won while chasing the target, and 22 matches are won while defending the target"
      ],
      "metadata": {
        "id": "wMmdiD-s20ds"
      }
    },
    {
      "cell_type": "markdown",
      "source": [
        "**Pie chart example from pycharm**"
      ],
      "metadata": {
        "id": "Te11ZKmEe6KW"
      }
    },
    {
      "cell_type": "code",
      "source": [
        "# slices=[7,2,2,13]\n",
        "# activities=['sleeping','eating','working','playing']\n",
        "# cols=['c','m','r','b']\n",
        "# plt.pie(slices,labels=activities,colors=cols,startangle=90,shadow=True,explode=(0,0.1,0,0),autopct='%1.1f%%')\n",
        "# plt.title('Pie Chart')\n",
        "# plt.show()"
      ],
      "metadata": {
        "id": "bKV0T7n20kBj"
      },
      "execution_count": 137,
      "outputs": []
    },
    {
      "cell_type": "markdown",
      "source": [
        "# Now let’s see what most teams prefer (batting or fielding) after winning the toss:"
      ],
      "metadata": {
        "id": "twUjyKlB2rxW"
      }
    },
    {
      "cell_type": "code",
      "source": [
        "ipl_data.tail(8)"
      ],
      "metadata": {
        "id": "IN4ywYBF27M-",
        "colab": {
          "base_uri": "https://localhost:8080/",
          "height": 0
        },
        "outputId": "bb48f0a5-f90e-4b39-f060-bd7625e94b92"
      },
      "execution_count": 138,
      "outputs": [
        {
          "output_type": "execute_result",
          "data": {
            "text/plain": [
              "    match_id         date                               venue      team1  \\\n",
              "63        64  May 16,2022  Dr DY Patil Sports Academy, Mumbai      Delhi   \n",
              "64        65  May 17,2022            Wankhede Stadium, Mumbai  Hyderabad   \n",
              "65        66  May 18,2022  Dr DY Patil Sports Academy, Mumbai    Kolkata   \n",
              "66        67  May 19,2022            Wankhede Stadium, Mumbai   Banglore   \n",
              "67        68  May 20,2022           Brabourne Stadium, Mumbai    Chennai   \n",
              "68        69  May 21,2022            Wankhede Stadium, Mumbai      Delhi   \n",
              "69        70  May 22,2022            Wankhede Stadium, Mumbai  Hyderabad   \n",
              "70        71  May 24,2022               Eden Gardens, Kolkata    Gujarat   \n",
              "\n",
              "        team2  stage toss_winner toss_decision  first_ings_score  \\\n",
              "63     Punjab  Group      Punjab         Field               159   \n",
              "64     Mumbai  Group      Mumbai         Field               193   \n",
              "65    Lucknow  Group     Lucknow           Bat               210   \n",
              "66    Gujarat  Group     Gujarat           Bat               168   \n",
              "67  Rajasthan  Group     Chennai           Bat               150   \n",
              "68     Mumbai  Group      Mumbai         Field               159   \n",
              "69     Punjab  Group   Hyderabad           Bat               157   \n",
              "70  Rajasthan  Group     Gujarat         Field               188   \n",
              "\n",
              "    first_ings_wkts  second_ings_score  second_ings_wkts match_winner  \\\n",
              "63                7                142                 9        Delhi   \n",
              "64                6                190                 7    Hyderabad   \n",
              "65                0                208                 8      Lucknow   \n",
              "66                5                170                 2     Banglore   \n",
              "67                6                151                 5    Rajasthan   \n",
              "68                7                160                 5       Mumbai   \n",
              "69                8                160                 5       Punjab   \n",
              "70                6                191                 3      Gujarat   \n",
              "\n",
              "     won_by  margin player_of_the_match        top_scorer  highscore  \\\n",
              "63     Runs      17      Shardul Thakur    Mitchell Marsh         63   \n",
              "64     Runs       3      Rahul Tripathi    Rahul Tripathi         76   \n",
              "65     Runs       2     Quinton de Kock   Quinton de Kock        140   \n",
              "66  Wickets       8         Virat Kohli       Virat Kohli         73   \n",
              "67  Wickets       5             R Aswin         Moeen Ali         93   \n",
              "68  Wickets       5      Jasprit Bumrah      Ishan Kishan         48   \n",
              "69  Wickets       5       Harpreet Brar  Liam Livingstone         49   \n",
              "70  Wickets       7                 NaN       Jos Buttler         89   \n",
              "\n",
              "        best_bowling best_bowling_figure  \n",
              "63     Shardul Takur               4--36  \n",
              "64   Ramandeep Singh               3--20  \n",
              "65       Mohsin Khan               3--20  \n",
              "66       Rashid Khan               2--32  \n",
              "67  Prashant Solanki               2--20  \n",
              "68    Jasprit Bumrah               3--25  \n",
              "69     Harpreet Brar               3--26  \n",
              "70     Hardik Pandya               1--14  "
            ],
            "text/html": [
              "\n",
              "  <div id=\"df-3cf39686-1459-47db-9e8c-a29e74e72580\">\n",
              "    <div class=\"colab-df-container\">\n",
              "      <div>\n",
              "<style scoped>\n",
              "    .dataframe tbody tr th:only-of-type {\n",
              "        vertical-align: middle;\n",
              "    }\n",
              "\n",
              "    .dataframe tbody tr th {\n",
              "        vertical-align: top;\n",
              "    }\n",
              "\n",
              "    .dataframe thead th {\n",
              "        text-align: right;\n",
              "    }\n",
              "</style>\n",
              "<table border=\"1\" class=\"dataframe\">\n",
              "  <thead>\n",
              "    <tr style=\"text-align: right;\">\n",
              "      <th></th>\n",
              "      <th>match_id</th>\n",
              "      <th>date</th>\n",
              "      <th>venue</th>\n",
              "      <th>team1</th>\n",
              "      <th>team2</th>\n",
              "      <th>stage</th>\n",
              "      <th>toss_winner</th>\n",
              "      <th>toss_decision</th>\n",
              "      <th>first_ings_score</th>\n",
              "      <th>first_ings_wkts</th>\n",
              "      <th>second_ings_score</th>\n",
              "      <th>second_ings_wkts</th>\n",
              "      <th>match_winner</th>\n",
              "      <th>won_by</th>\n",
              "      <th>margin</th>\n",
              "      <th>player_of_the_match</th>\n",
              "      <th>top_scorer</th>\n",
              "      <th>highscore</th>\n",
              "      <th>best_bowling</th>\n",
              "      <th>best_bowling_figure</th>\n",
              "    </tr>\n",
              "  </thead>\n",
              "  <tbody>\n",
              "    <tr>\n",
              "      <th>63</th>\n",
              "      <td>64</td>\n",
              "      <td>May 16,2022</td>\n",
              "      <td>Dr DY Patil Sports Academy, Mumbai</td>\n",
              "      <td>Delhi</td>\n",
              "      <td>Punjab</td>\n",
              "      <td>Group</td>\n",
              "      <td>Punjab</td>\n",
              "      <td>Field</td>\n",
              "      <td>159</td>\n",
              "      <td>7</td>\n",
              "      <td>142</td>\n",
              "      <td>9</td>\n",
              "      <td>Delhi</td>\n",
              "      <td>Runs</td>\n",
              "      <td>17</td>\n",
              "      <td>Shardul Thakur</td>\n",
              "      <td>Mitchell Marsh</td>\n",
              "      <td>63</td>\n",
              "      <td>Shardul Takur</td>\n",
              "      <td>4--36</td>\n",
              "    </tr>\n",
              "    <tr>\n",
              "      <th>64</th>\n",
              "      <td>65</td>\n",
              "      <td>May 17,2022</td>\n",
              "      <td>Wankhede Stadium, Mumbai</td>\n",
              "      <td>Hyderabad</td>\n",
              "      <td>Mumbai</td>\n",
              "      <td>Group</td>\n",
              "      <td>Mumbai</td>\n",
              "      <td>Field</td>\n",
              "      <td>193</td>\n",
              "      <td>6</td>\n",
              "      <td>190</td>\n",
              "      <td>7</td>\n",
              "      <td>Hyderabad</td>\n",
              "      <td>Runs</td>\n",
              "      <td>3</td>\n",
              "      <td>Rahul Tripathi</td>\n",
              "      <td>Rahul Tripathi</td>\n",
              "      <td>76</td>\n",
              "      <td>Ramandeep Singh</td>\n",
              "      <td>3--20</td>\n",
              "    </tr>\n",
              "    <tr>\n",
              "      <th>65</th>\n",
              "      <td>66</td>\n",
              "      <td>May 18,2022</td>\n",
              "      <td>Dr DY Patil Sports Academy, Mumbai</td>\n",
              "      <td>Kolkata</td>\n",
              "      <td>Lucknow</td>\n",
              "      <td>Group</td>\n",
              "      <td>Lucknow</td>\n",
              "      <td>Bat</td>\n",
              "      <td>210</td>\n",
              "      <td>0</td>\n",
              "      <td>208</td>\n",
              "      <td>8</td>\n",
              "      <td>Lucknow</td>\n",
              "      <td>Runs</td>\n",
              "      <td>2</td>\n",
              "      <td>Quinton de Kock</td>\n",
              "      <td>Quinton de Kock</td>\n",
              "      <td>140</td>\n",
              "      <td>Mohsin Khan</td>\n",
              "      <td>3--20</td>\n",
              "    </tr>\n",
              "    <tr>\n",
              "      <th>66</th>\n",
              "      <td>67</td>\n",
              "      <td>May 19,2022</td>\n",
              "      <td>Wankhede Stadium, Mumbai</td>\n",
              "      <td>Banglore</td>\n",
              "      <td>Gujarat</td>\n",
              "      <td>Group</td>\n",
              "      <td>Gujarat</td>\n",
              "      <td>Bat</td>\n",
              "      <td>168</td>\n",
              "      <td>5</td>\n",
              "      <td>170</td>\n",
              "      <td>2</td>\n",
              "      <td>Banglore</td>\n",
              "      <td>Wickets</td>\n",
              "      <td>8</td>\n",
              "      <td>Virat Kohli</td>\n",
              "      <td>Virat Kohli</td>\n",
              "      <td>73</td>\n",
              "      <td>Rashid Khan</td>\n",
              "      <td>2--32</td>\n",
              "    </tr>\n",
              "    <tr>\n",
              "      <th>67</th>\n",
              "      <td>68</td>\n",
              "      <td>May 20,2022</td>\n",
              "      <td>Brabourne Stadium, Mumbai</td>\n",
              "      <td>Chennai</td>\n",
              "      <td>Rajasthan</td>\n",
              "      <td>Group</td>\n",
              "      <td>Chennai</td>\n",
              "      <td>Bat</td>\n",
              "      <td>150</td>\n",
              "      <td>6</td>\n",
              "      <td>151</td>\n",
              "      <td>5</td>\n",
              "      <td>Rajasthan</td>\n",
              "      <td>Wickets</td>\n",
              "      <td>5</td>\n",
              "      <td>R Aswin</td>\n",
              "      <td>Moeen Ali</td>\n",
              "      <td>93</td>\n",
              "      <td>Prashant Solanki</td>\n",
              "      <td>2--20</td>\n",
              "    </tr>\n",
              "    <tr>\n",
              "      <th>68</th>\n",
              "      <td>69</td>\n",
              "      <td>May 21,2022</td>\n",
              "      <td>Wankhede Stadium, Mumbai</td>\n",
              "      <td>Delhi</td>\n",
              "      <td>Mumbai</td>\n",
              "      <td>Group</td>\n",
              "      <td>Mumbai</td>\n",
              "      <td>Field</td>\n",
              "      <td>159</td>\n",
              "      <td>7</td>\n",
              "      <td>160</td>\n",
              "      <td>5</td>\n",
              "      <td>Mumbai</td>\n",
              "      <td>Wickets</td>\n",
              "      <td>5</td>\n",
              "      <td>Jasprit Bumrah</td>\n",
              "      <td>Ishan Kishan</td>\n",
              "      <td>48</td>\n",
              "      <td>Jasprit Bumrah</td>\n",
              "      <td>3--25</td>\n",
              "    </tr>\n",
              "    <tr>\n",
              "      <th>69</th>\n",
              "      <td>70</td>\n",
              "      <td>May 22,2022</td>\n",
              "      <td>Wankhede Stadium, Mumbai</td>\n",
              "      <td>Hyderabad</td>\n",
              "      <td>Punjab</td>\n",
              "      <td>Group</td>\n",
              "      <td>Hyderabad</td>\n",
              "      <td>Bat</td>\n",
              "      <td>157</td>\n",
              "      <td>8</td>\n",
              "      <td>160</td>\n",
              "      <td>5</td>\n",
              "      <td>Punjab</td>\n",
              "      <td>Wickets</td>\n",
              "      <td>5</td>\n",
              "      <td>Harpreet Brar</td>\n",
              "      <td>Liam Livingstone</td>\n",
              "      <td>49</td>\n",
              "      <td>Harpreet Brar</td>\n",
              "      <td>3--26</td>\n",
              "    </tr>\n",
              "    <tr>\n",
              "      <th>70</th>\n",
              "      <td>71</td>\n",
              "      <td>May 24,2022</td>\n",
              "      <td>Eden Gardens, Kolkata</td>\n",
              "      <td>Gujarat</td>\n",
              "      <td>Rajasthan</td>\n",
              "      <td>Group</td>\n",
              "      <td>Gujarat</td>\n",
              "      <td>Field</td>\n",
              "      <td>188</td>\n",
              "      <td>6</td>\n",
              "      <td>191</td>\n",
              "      <td>3</td>\n",
              "      <td>Gujarat</td>\n",
              "      <td>Wickets</td>\n",
              "      <td>7</td>\n",
              "      <td>NaN</td>\n",
              "      <td>Jos Buttler</td>\n",
              "      <td>89</td>\n",
              "      <td>Hardik Pandya</td>\n",
              "      <td>1--14</td>\n",
              "    </tr>\n",
              "  </tbody>\n",
              "</table>\n",
              "</div>\n",
              "      <button class=\"colab-df-convert\" onclick=\"convertToInteractive('df-3cf39686-1459-47db-9e8c-a29e74e72580')\"\n",
              "              title=\"Convert this dataframe to an interactive table.\"\n",
              "              style=\"display:none;\">\n",
              "        \n",
              "  <svg xmlns=\"http://www.w3.org/2000/svg\" height=\"24px\"viewBox=\"0 0 24 24\"\n",
              "       width=\"24px\">\n",
              "    <path d=\"M0 0h24v24H0V0z\" fill=\"none\"/>\n",
              "    <path d=\"M18.56 5.44l.94 2.06.94-2.06 2.06-.94-2.06-.94-.94-2.06-.94 2.06-2.06.94zm-11 1L8.5 8.5l.94-2.06 2.06-.94-2.06-.94L8.5 2.5l-.94 2.06-2.06.94zm10 10l.94 2.06.94-2.06 2.06-.94-2.06-.94-.94-2.06-.94 2.06-2.06.94z\"/><path d=\"M17.41 7.96l-1.37-1.37c-.4-.4-.92-.59-1.43-.59-.52 0-1.04.2-1.43.59L10.3 9.45l-7.72 7.72c-.78.78-.78 2.05 0 2.83L4 21.41c.39.39.9.59 1.41.59.51 0 1.02-.2 1.41-.59l7.78-7.78 2.81-2.81c.8-.78.8-2.07 0-2.86zM5.41 20L4 18.59l7.72-7.72 1.47 1.35L5.41 20z\"/>\n",
              "  </svg>\n",
              "      </button>\n",
              "      \n",
              "  <style>\n",
              "    .colab-df-container {\n",
              "      display:flex;\n",
              "      flex-wrap:wrap;\n",
              "      gap: 12px;\n",
              "    }\n",
              "\n",
              "    .colab-df-convert {\n",
              "      background-color: #E8F0FE;\n",
              "      border: none;\n",
              "      border-radius: 50%;\n",
              "      cursor: pointer;\n",
              "      display: none;\n",
              "      fill: #1967D2;\n",
              "      height: 32px;\n",
              "      padding: 0 0 0 0;\n",
              "      width: 32px;\n",
              "    }\n",
              "\n",
              "    .colab-df-convert:hover {\n",
              "      background-color: #E2EBFA;\n",
              "      box-shadow: 0px 1px 2px rgba(60, 64, 67, 0.3), 0px 1px 3px 1px rgba(60, 64, 67, 0.15);\n",
              "      fill: #174EA6;\n",
              "    }\n",
              "\n",
              "    [theme=dark] .colab-df-convert {\n",
              "      background-color: #3B4455;\n",
              "      fill: #D2E3FC;\n",
              "    }\n",
              "\n",
              "    [theme=dark] .colab-df-convert:hover {\n",
              "      background-color: #434B5C;\n",
              "      box-shadow: 0px 1px 3px 1px rgba(0, 0, 0, 0.15);\n",
              "      filter: drop-shadow(0px 1px 2px rgba(0, 0, 0, 0.3));\n",
              "      fill: #FFFFFF;\n",
              "    }\n",
              "  </style>\n",
              "\n",
              "      <script>\n",
              "        const buttonEl =\n",
              "          document.querySelector('#df-3cf39686-1459-47db-9e8c-a29e74e72580 button.colab-df-convert');\n",
              "        buttonEl.style.display =\n",
              "          google.colab.kernel.accessAllowed ? 'block' : 'none';\n",
              "\n",
              "        async function convertToInteractive(key) {\n",
              "          const element = document.querySelector('#df-3cf39686-1459-47db-9e8c-a29e74e72580');\n",
              "          const dataTable =\n",
              "            await google.colab.kernel.invokeFunction('convertToInteractive',\n",
              "                                                     [key], {});\n",
              "          if (!dataTable) return;\n",
              "\n",
              "          const docLinkHtml = 'Like what you see? Visit the ' +\n",
              "            '<a target=\"_blank\" href=https://colab.research.google.com/notebooks/data_table.ipynb>data table notebook</a>'\n",
              "            + ' to learn more about interactive tables.';\n",
              "          element.innerHTML = '';\n",
              "          dataTable['output_type'] = 'display_data';\n",
              "          await google.colab.output.renderOutput(dataTable, element);\n",
              "          const docLink = document.createElement('div');\n",
              "          docLink.innerHTML = docLinkHtml;\n",
              "          element.appendChild(docLink);\n",
              "        }\n",
              "      </script>\n",
              "    </div>\n",
              "  </div>\n",
              "  "
            ]
          },
          "metadata": {},
          "execution_count": 138
        }
      ]
    },
    {
      "cell_type": "code",
      "source": [
        "tosswin=ipl_data['toss_decision'].value_counts()\n",
        "tosswin"
      ],
      "metadata": {
        "colab": {
          "base_uri": "https://localhost:8080/"
        },
        "id": "LQa3p2Lj27KA",
        "outputId": "1da9d49b-cbc1-4bdc-8295-0f7f67b69c07"
      },
      "execution_count": 139,
      "outputs": [
        {
          "output_type": "execute_result",
          "data": {
            "text/plain": [
              "Field    57\n",
              "Bat      14\n",
              "Name: toss_decision, dtype: int64"
            ]
          },
          "metadata": {},
          "execution_count": 139
        }
      ]
    },
    {
      "cell_type": "code",
      "source": [
        "label2=tosswin.index\n",
        "counts2=tosswin.values"
      ],
      "metadata": {
        "id": "1wL-e7zC263V"
      },
      "execution_count": 140,
      "outputs": []
    },
    {
      "cell_type": "code",
      "source": [
        "import matplotlib.pyplot as plt\n",
        "plt.bar(label2,counts2)\n",
        "plt.show()"
      ],
      "metadata": {
        "colab": {
          "base_uri": "https://localhost:8080/",
          "height": 0
        },
        "id": "_ZjIMj8D260g",
        "outputId": "08514c57-9298-4993-93ff-1c1162e76dc5"
      },
      "execution_count": 141,
      "outputs": [
        {
          "output_type": "display_data",
          "data": {
            "text/plain": [
              "<Figure size 432x288 with 1 Axes>"
            ],
            "image/png": "[encoded data removed]"
          },
          "metadata": {
            "needs_background": "light"
          }
        }
      ]
    },
    {
      "cell_type": "code",
      "source": [
        "import matplotlib.pyplot as plt\n",
        "plt.pie(counts2,labels=label2,shadow=True,autopct='%1.1f%%')\n",
        "plt.show()"
      ],
      "metadata": {
        "colab": {
          "base_uri": "https://localhost:8080/",
          "height": 0
        },
        "id": "PDsh7bbP6H_x",
        "outputId": "8023e342-582e-4d07-ae88-28aafdf4cf95"
      },
      "execution_count": 142,
      "outputs": [
        {
          "output_type": "display_data",
          "data": {
            "text/plain": [
              "<Figure size 432x288 with 1 Axes>"
            ],
            "image/png": "[encoded data removed]"
          },
          "metadata": {}
        }
      ]
    },
    {
      "cell_type": "markdown",
      "source": [
        "Thus, most captains choose to field after winning the toss. So far, in 57 games, captains have chosen to field first, and in just three games, the 14 captains have chosen to bat first."
      ],
      "metadata": {
        "id": "fYa1Pnvl7Jm1"
      }
    },
    {
      "cell_type": "markdown",
      "source": [
        "# Now let’s see the top scorers of most IPL 2022 matches:"
      ],
      "metadata": {
        "id": "aN4TxdVQ7Wig"
      }
    },
    {
      "cell_type": "code",
      "source": [
        "topscore=ipl_data['top_scorer'].value_counts()\n",
        "topscore"
      ],
      "metadata": {
        "id": "Q0Evg6DB6H86",
        "colab": {
          "base_uri": "https://localhost:8080/"
        },
        "outputId": "1dcf1221-287d-44b1-c8f2-1f081f7ea982"
      },
      "execution_count": 153,
      "outputs": [
        {
          "output_type": "execute_result",
          "data": {
            "text/plain": [
              "Jos Buttler            6\n",
              "Quinton de Kock        5\n",
              "Liam Livingstone       4\n",
              "KL Rahul               4\n",
              "W. Saha                3\n",
              "David Warner           3\n",
              "Faf du Plessis         3\n",
              "Shubman Gill           3\n",
              "Ishan Kishan           3\n",
              "Virat Kohli            2\n",
              "Rahul Tripathi         2\n",
              "Hardik Pandya          2\n",
              "Shikhar Dhawan         2\n",
              "MS Dhoni               2\n",
              "Abhishek Sharma        2\n",
              "Andre Russell          2\n",
              "Mitchell Marsh         2\n",
              "Deepak Hooda           2\n",
              "Devon Conway           2\n",
              "Sai Sudharsan          1\n",
              "Sanju Samson           1\n",
              "Ruturaj Gaikwad        1\n",
              "Riyan Parag            1\n",
              "Yashasvi Jaiswal       1\n",
              "Nitish Rana            1\n",
              "Shivam Dube            1\n",
              "Tilak Varma            1\n",
              "David Miller           1\n",
              "Dinesh Karthik         1\n",
              "Kane Williamson        1\n",
              "Shimron Hetmyer        1\n",
              "Suryakumar Yadav       1\n",
              "Pat Cummins            1\n",
              "Sherfane Rutherford    1\n",
              "Aiden Markram          1\n",
              "Moeen Ali              1\n",
              "Name: top_scorer, dtype: int64"
            ]
          },
          "metadata": {},
          "execution_count": 153
        }
      ]
    },
    {
      "cell_type": "code",
      "source": [
        "label3=topscore.index\n",
        "counts3=topscore.values"
      ],
      "metadata": {
        "id": "UzOQ2Pwl6H6V"
      },
      "execution_count": 154,
      "outputs": []
    },
    {
      "cell_type": "code",
      "source": [
        "import matplotlib.pyplot as plt\n",
        "plt.bar(label3,counts3)\n",
        "plt.xticks(rotation=90)\n",
        "plt.rcParams[\"figure.figsize\"] = (10,6.5)\n",
        "plt.show()"
      ],
      "metadata": {
        "colab": {
          "base_uri": "https://localhost:8080/",
          "height": 493
        },
        "id": "t_oGxSQd6H4h",
        "outputId": "e8d69a6b-1abd-4334-b857-79450e8d9d7f"
      },
      "execution_count": 169,
      "outputs": [
        {
          "output_type": "display_data",
          "data": {
            "text/plain": [
              "<Figure size 720x468 with 1 Axes>"
            ],
            "image/png": "[encoded data removed]"
          },
          "metadata": {
            "needs_background": "light"
          }
        }
      ]
    },
    {
      "cell_type": "markdown",
      "source": [
        "Currently, Jos Buttler has been a top scorer in 6 matches. He is looking in great touch."
      ],
      "metadata": {
        "id": "OHDy3TM29fGA"
      }
    },
    {
      "cell_type": "markdown",
      "source": [
        "# Let’s analyze it deeply by including the runs scored by the top scorers:"
      ],
      "metadata": {
        "id": "K7f2RgZv9mOK"
      }
    },
    {
      "cell_type": "code",
      "source": [
        "highscore=ipl_data.groupby('top_scorer').sum()['highscore']\n",
        "highscore"
      ],
      "metadata": {
        "id": "PdwZKr6_6H3P"
      },
      "execution_count": null,
      "outputs": []
    },
    {
      "cell_type": "code",
      "source": [
        "label4=highscore.index\n",
        "counts4=highscore.values"
      ],
      "metadata": {
        "id": "_snJi37z6H1y"
      },
      "execution_count": 147,
      "outputs": []
    },
    {
      "cell_type": "code",
      "source": [
        "import matplotlib.pyplot as plt\n",
        "plt.bar(label4,counts4)\n",
        "plt.xticks(rotation=90)\n",
        "plt.title(\"Top Scorers in IPL 2022\")\n",
        "plt.ylabel('Runs')\n",
        "plt.rcParams[\"figure.figsize\"] = (10,6.5)\n",
        "plt.show()"
      ],
      "metadata": {
        "id": "rO0UYvmf6H0X",
        "colab": {
          "base_uri": "https://localhost:8080/",
          "height": 509
        },
        "outputId": "796b5e75-09d8-48fe-8d86-f2d9b8d7a21e"
      },
      "execution_count": 168,
      "outputs": [
        {
          "output_type": "display_data",
          "data": {
            "text/plain": [
              "<Figure size 720x468 with 1 Axes>"
            ],
            "image/png": "[encoded data removed]"
          },
          "metadata": {
            "needs_background": "light"
          }
        }
      ]
    },
    {
      "cell_type": "markdown",
      "source": [
        "# Now let’s have a look at the most player of the match awards till now in IPL 2022:"
      ],
      "metadata": {
        "id": "jUML1G_aBo4c"
      }
    },
    {
      "cell_type": "code",
      "source": [
        "playerofmatch=ipl_data['player_of_the_match'].value_counts()\n",
        "playerofmatch"
      ],
      "metadata": {
        "id": "Fb55fwOp6HyJ"
      },
      "execution_count": null,
      "outputs": []
    },
    {
      "cell_type": "code",
      "source": [
        "label5=playerofmatch.index\n",
        "counts5=playerofmatch.values"
      ],
      "metadata": {
        "id": "OvlFZxtK6HwP"
      },
      "execution_count": 157,
      "outputs": []
    },
    {
      "cell_type": "code",
      "source": [
        "import matplotlib.pyplot as plt\n",
        "plt.bar(label5,counts5)\n",
        "plt.xticks(rotation=90)\n",
        "plt.title('Man of the match')\n",
        "plt.rcParams[\"figure.figsize\"] = (20,6.5)\n",
        "plt.show()"
      ],
      "metadata": {
        "id": "xjwtwbX86HtN",
        "colab": {
          "base_uri": "https://localhost:8080/",
          "height": 508
        },
        "outputId": "47a740d7-c237-4646-df4e-8d986931e22e"
      },
      "execution_count": 173,
      "outputs": [
        {
          "output_type": "display_data",
          "data": {
            "text/plain": [
              "<Figure size 1080x468 with 1 Axes>"
            ],
            "image/png": "[encoded data removed]"
          },
          "metadata": {
            "needs_background": "light"
          }
        }
      ]
    },
    {
      "cell_type": "markdown",
      "source": [
        "So Kuldeep Yadav is leading in the list of players of the match awards with four matches. It is a great tournament for Kuldeep Yadav this year."
      ],
      "metadata": {
        "id": "ErMRfEqZHgC6"
      }
    },
    {
      "cell_type": "markdown",
      "source": [
        "# Now let’s have a look at the bowlers with the best bowling figures in most of the matches:"
      ],
      "metadata": {
        "id": "-JAdrJTzHlUm"
      }
    },
    {
      "cell_type": "code",
      "source": [
        "bowling=ipl_data['best_bowling'].value_counts()\n",
        "bowling"
      ],
      "metadata": {
        "id": "SSchV7Jn6Hq-"
      },
      "execution_count": null,
      "outputs": []
    },
    {
      "cell_type": "code",
      "source": [
        "label6=bowling.index\n",
        "counts6=bowling.values"
      ],
      "metadata": {
        "id": "1GIVNSMm6HpR"
      },
      "execution_count": 176,
      "outputs": []
    },
    {
      "cell_type": "code",
      "source": [
        "import matplotlib.pyplot as plt\n",
        "plt.bar(label6,counts6)\n",
        "plt.xticks(rotation=90)\n",
        "plt.title('Man of the match')\n",
        "plt.rcParams[\"figure.figsize\"] = (20,6.5)\n",
        "plt.show()"
      ],
      "metadata": {
        "id": "Z5y8sNII0k5m",
        "colab": {
          "base_uri": "https://localhost:8080/",
          "height": 500
        },
        "outputId": "d6c67d91-2055-4550-eed8-df75350217fb"
      },
      "execution_count": 177,
      "outputs": [
        {
          "output_type": "display_data",
          "data": {
            "text/plain": [
              "<Figure size 1440x468 with 1 Axes>"
            ],
            "image/png": "[encoded data removed]"
          },
          "metadata": {
            "needs_background": "light"
          }
        }
      ]
    },
    {
      "cell_type": "markdown",
      "source": [
        "You can see Yuzvendra Chahal having the best bowling figures in four matches. So this is a great tournament for Yuzvendra Chahal this year too."
      ],
      "metadata": {
        "id": "Seqq7aDCIhBO"
      }
    },
    {
      "cell_type": "markdown",
      "source": [
        "# Now let’s have a look at whether most of the wickets fall while setting the target or while chasing the target:"
      ],
      "metadata": {
        "id": "LiIQH1NiIjvU"
      }
    },
    {
      "cell_type": "code",
      "source": [
        "venueFirINNwickets=ipl_data.groupby('venue').sum()['first_ings_wkts']\n",
        "venueSecINNwickets=ipl_data.groupby('venue').sum()['second_ings_wkts']"
      ],
      "metadata": {
        "id": "7VihhYNxIiPu"
      },
      "execution_count": 182,
      "outputs": []
    },
    {
      "cell_type": "code",
      "source": [
        "venueFirINNwickets"
      ],
      "metadata": {
        "colab": {
          "base_uri": "https://localhost:8080/"
        },
        "id": "Bgnmat-EIioj",
        "outputId": "088a117b-e74d-4ac6-bdf9-e4f9a6dad605"
      },
      "execution_count": 183,
      "outputs": [
        {
          "output_type": "execute_result",
          "data": {
            "text/plain": [
              "venue\n",
              "Brabourne Stadium, Mumbai                       107\n",
              "Dr DY Patil Sports Academy, Mumbai              126\n",
              "Eden Gardens, Kolkata                             6\n",
              "Maharashtra Cricket Association Stadium,Pune     75\n",
              "Wankhede Stadium, Mumbai                        119\n",
              "Name: first_ings_wkts, dtype: int64"
            ]
          },
          "metadata": {},
          "execution_count": 183
        }
      ]
    },
    {
      "cell_type": "code",
      "source": [
        "venueSecINNwickets"
      ],
      "metadata": {
        "colab": {
          "base_uri": "https://localhost:8080/"
        },
        "id": "PZjvBRRoIilF",
        "outputId": "bb31681b-4731-461d-8737-9175570fab7d"
      },
      "execution_count": 184,
      "outputs": [
        {
          "output_type": "execute_result",
          "data": {
            "text/plain": [
              "venue\n",
              "Brabourne Stadium, Mumbai                        97\n",
              "Dr DY Patil Sports Academy, Mumbai              127\n",
              "Eden Gardens, Kolkata                             3\n",
              "Maharashtra Cricket Association Stadium,Pune    100\n",
              "Wankhede Stadium, Mumbai                        118\n",
              "Name: second_ings_wkts, dtype: int64"
            ]
          },
          "metadata": {},
          "execution_count": 184
        }
      ]
    },
    {
      "cell_type": "code",
      "source": [
        "label7=venueFirINNwickets.index\n",
        "# label77=venueSecINNwickets.index\n",
        "counts7=venueFirINNwickets.values\n",
        "counts77=venueSecINNwickets.values"
      ],
      "metadata": {
        "id": "qvpe_O4UIijl"
      },
      "execution_count": 187,
      "outputs": []
    },
    {
      "cell_type": "code",
      "source": [
        "import matplotlib.pyplot as plt\n",
        "X_axis = np.arange(len(label7))\n",
        "plt.bar(X_axis-0.2,counts7,.4)\n",
        "plt.bar(X_axis+0.2,counts77,.4)\n",
        "plt.xticks(X_axis, label7)\n",
        "plt.xticks(rotation=45)\n",
        "plt.rcParams[\"figure.figsize\"] = (10,3.5)\n",
        "plt.legend(['second Inn','first Inn'])\n",
        "plt.show()"
      ],
      "metadata": {
        "colab": {
          "base_uri": "https://localhost:8080/",
          "height": 401
        },
        "id": "ZkZJ59SQIigM",
        "outputId": "a52d3f0e-a4e5-4c90-9553-f27472f74ef5"
      },
      "execution_count": 195,
      "outputs": [
        {
          "output_type": "display_data",
          "data": {
            "text/plain": [
              "<Figure size 720x252 with 1 Axes>"
            ],
            "image/png": "[encoded data removed]"
          },
          "metadata": {
            "needs_background": "light"
          }
        }
      ]
    },
    {
      "cell_type": "code",
      "source": [
        ""
      ],
      "metadata": {
        "id": "leQcx1knIieV"
      },
      "execution_count": null,
      "outputs": []
    },
    {
      "cell_type": "code",
      "source": [
        ""
      ],
      "metadata": {
        "id": "eR7iIVYeIib5"
      },
      "execution_count": null,
      "outputs": []
    },
    {
      "cell_type": "code",
      "source": [
        ""
      ],
      "metadata": {
        "id": "h5uqdGA3Iiak"
      },
      "execution_count": null,
      "outputs": []
    },
    {
      "cell_type": "code",
      "source": [
        ""
      ],
      "metadata": {
        "id": "Zh9RymxNIiY9"
      },
      "execution_count": null,
      "outputs": []
    },
    {
      "cell_type": "code",
      "source": [
        ""
      ],
      "metadata": {
        "id": "BtIYft0JIiXX"
      },
      "execution_count": null,
      "outputs": []
    },
    {
      "cell_type": "code",
      "source": [
        ""
      ],
      "metadata": {
        "id": "Jb8lTLkuIiWF"
      },
      "execution_count": null,
      "outputs": []
    }
  ]
}